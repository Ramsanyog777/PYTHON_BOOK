{
  "nbformat": 4,
  "nbformat_minor": 0,
  "metadata": {
    "colab": {
      "provenance": []
    },
    "kernelspec": {
      "name": "python3",
      "display_name": "Python 3"
    },
    "language_info": {
      "name": "python"
    }
  },
  "cells": [
    {
      "cell_type": "code",
      "execution_count": null,
      "metadata": {
        "colab": {
          "base_uri": "https://localhost:8080/"
        },
        "id": "P0E7xFJP-JDM",
        "outputId": "d38ada9b-d62d-4cd5-bf54-e2e5dbf18455"
      },
      "outputs": [
        {
          "output_type": "stream",
          "name": "stdout",
          "text": [
            "hello\n"
          ]
        }
      ],
      "source": [
        "print(\"hello\")\n",
        "\n",
        "# printing(\"hello\")  # line with wrong syntax"
      ]
    },
    {
      "cell_type": "markdown",
      "source": [
        "# Introduction\n",
        "\n",
        "* python is a high level interpreted programming language\n",
        "* It was introduced in the year 1991 by guido van rossum\n",
        "\n",
        "\n",
        "# why python?\n",
        "* easy to code\n",
        "* easy to understand\n",
        "* user - friendly\n",
        "* most of the syntax is english language which is used globally around the world\n",
        "* faster execution\n",
        "* It is a open - source\n",
        "* Muliple libraries and functionalities.\n",
        "\n",
        "# where we are using python?\n",
        "\n",
        "* data science and data analysis - numpy , pandas\n",
        "* web development - django,flask\n",
        "* data visulaization - matplotlib , seaborn\n",
        "* machine learning - scikit-learn\n",
        "* Artificial intelligence - tensorflow\n",
        "* Time series forecasting - stock price predictions , whether forcast predictions"
      ],
      "metadata": {
        "id": "9Piqxbv9-vdS"
      }
    },
    {
      "cell_type": "markdown",
      "source": [],
      "metadata": {
        "id": "zx1I4XqcBTyz"
      }
    },
    {
      "cell_type": "markdown",
      "source": [
        "**Good Morning Everyone Guys! let's wait for everyone to join the session and we will start the session by 7:10**"
      ],
      "metadata": {
        "id": "U_3GXO20yKdd"
      }
    },
    {
      "cell_type": "markdown",
      "source": [
        "# Agenda\n",
        "\n",
        "* variables\n",
        "* In built datatypes\n",
        "* operators and its types\n",
        "* sequential datatypes - strings , list , tuple\n",
        "* Non - sequential datatypes - sets , dictionary\n",
        "* conditional statements\n",
        "* loops\n",
        "* Functions\n"
      ],
      "metadata": {
        "id": "attpk1nA0lr8"
      }
    },
    {
      "cell_type": "code",
      "source": [
        "# comments are lines of statement that do not execute\n",
        "\n",
        "# run the cell you can click shift + enter\n",
        "\n",
        "# we use # to create single line comment\n",
        "\n",
        "\"\"\"\n",
        "this\n",
        "is my multiline\n",
        "comment\n",
        "\n",
        "\"\"\""
      ],
      "metadata": {
        "id": "MqLH7Ig4-klB",
        "colab": {
          "base_uri": "https://localhost:8080/",
          "height": 35
        },
        "outputId": "0fae1f70-0c82-40db-f091-79765361b0cf"
      },
      "execution_count": null,
      "outputs": [
        {
          "output_type": "execute_result",
          "data": {
            "text/plain": [
              "'\\nthis \\nis my multiline \\ncomment \\n\\n'"
            ],
            "application/vnd.google.colaboratory.intrinsic+json": {
              "type": "string"
            }
          },
          "metadata": {},
          "execution_count": 7
        }
      ]
    },
    {
      "cell_type": "code",
      "source": [
        "print(\"Fatima\") # python is case sensitive\n",
        "print('Fatima')"
      ],
      "metadata": {
        "colab": {
          "base_uri": "https://localhost:8080/"
        },
        "id": "ohXsiE1Q2WvQ",
        "outputId": "f7ac2d3a-e320-474c-dc50-2a5a9493a199"
      },
      "execution_count": null,
      "outputs": [
        {
          "output_type": "stream",
          "name": "stdout",
          "text": [
            "Fatima\n",
            "Fatima\n"
          ]
        }
      ]
    },
    {
      "cell_type": "markdown",
      "source": [
        "# Variables\n",
        "\n",
        "* It is a container that stores different types of data"
      ],
      "metadata": {
        "id": "NyGhhr6a4L65"
      }
    },
    {
      "cell_type": "code",
      "source": [
        "variable1 = 10 # variable name is variable1 and it stores the value 10\n",
        "print(variable1)\n",
        "\n",
        "box1 = \"5 apples\" # \"5 apples\" is a string(text) data stores in variable box1\n",
        "box2 = \"6 apples\"\n",
        "box3 = \"3 apples\"\n",
        "\n",
        "print(box1) # this box1 is going to fetch the value in box1\n",
        "print(\"box1\") # this box1 in \"\" is a text not a variable"
      ],
      "metadata": {
        "colab": {
          "base_uri": "https://localhost:8080/"
        },
        "id": "TKAP5tNf3fRE",
        "outputId": "d0d29610-69db-4d24-893d-050143b3f0ab"
      },
      "execution_count": null,
      "outputs": [
        {
          "output_type": "stream",
          "name": "stdout",
          "text": [
            "10\n",
            "5 apples\n",
            "box1\n"
          ]
        }
      ]
    },
    {
      "cell_type": "markdown",
      "source": [
        "# Rules to write variables\n",
        "\n",
        "* variables are case sensitive\n",
        "* we cannot start variables with number/symbols(except_)\n",
        "* we don't use keywords as a variable name\n",
        "* we cannot give spaces between the variable\n",
        "* if you want to give space use _(underscore)"
      ],
      "metadata": {
        "id": "YhIHJ6CY6RZk"
      }
    },
    {
      "cell_type": "code",
      "source": [
        "Age = 10\n",
        "age = 40\n",
        "\n",
        "print(Age)\n",
        "print(age)\n"
      ],
      "metadata": {
        "colab": {
          "base_uri": "https://localhost:8080/"
        },
        "id": "_4MYKGGo4WjT",
        "outputId": "d86cb5ff-a71b-4bdf-f509-576782ba5117"
      },
      "execution_count": null,
      "outputs": [
        {
          "output_type": "stream",
          "name": "stdout",
          "text": [
            "10\n",
            "40\n"
          ]
        }
      ]
    },
    {
      "cell_type": "code",
      "source": [
        "x = 10\n",
        "X = 15\n",
        "\n",
        "print(x)\n",
        "print(X)"
      ],
      "metadata": {
        "colab": {
          "base_uri": "https://localhost:8080/"
        },
        "id": "n_Ca4h2a4YUC",
        "outputId": "ac13f654-ee06-4249-e244-074fae2ae591"
      },
      "execution_count": null,
      "outputs": [
        {
          "output_type": "stream",
          "name": "stdout",
          "text": [
            "10\n",
            "15\n"
          ]
        }
      ]
    },
    {
      "cell_type": "code",
      "source": [
        "# 1var = 23  # 1var is started with 1"
      ],
      "metadata": {
        "id": "enkNdbdT7Lsi"
      },
      "execution_count": null,
      "outputs": []
    },
    {
      "cell_type": "code",
      "source": [
        "v1e = 23"
      ],
      "metadata": {
        "id": "kGbfbZn172_Z"
      },
      "execution_count": null,
      "outputs": []
    },
    {
      "cell_type": "code",
      "source": [
        "# @var123 = 45"
      ],
      "metadata": {
        "id": "Dajp7Lp88DUP"
      },
      "execution_count": null,
      "outputs": []
    },
    {
      "cell_type": "code",
      "source": [
        "var123 = 45"
      ],
      "metadata": {
        "id": "MBCCDApv8PyW"
      },
      "execution_count": null,
      "outputs": []
    },
    {
      "cell_type": "code",
      "source": [
        "# if = 10 # if is a reserved keyword in python"
      ],
      "metadata": {
        "id": "tjErTh8j8YuS"
      },
      "execution_count": null,
      "outputs": []
    },
    {
      "cell_type": "code",
      "source": [
        "# and = 23"
      ],
      "metadata": {
        "id": "zVA4QP_h8m6B"
      },
      "execution_count": null,
      "outputs": []
    },
    {
      "cell_type": "code",
      "source": [
        "s = 123"
      ],
      "metadata": {
        "id": "IXXLFgA788pr"
      },
      "execution_count": null,
      "outputs": []
    },
    {
      "cell_type": "code",
      "source": [
        "print(s)"
      ],
      "metadata": {
        "colab": {
          "base_uri": "https://localhost:8080/"
        },
        "id": "X1EBLRSe9Luk",
        "outputId": "0c4ba553-5dce-44ba-b050-ca97b0bac450"
      },
      "execution_count": null,
      "outputs": [
        {
          "output_type": "stream",
          "name": "stdout",
          "text": [
            "123\n"
          ]
        }
      ]
    },
    {
      "cell_type": "code",
      "source": [
        "s = 123\n",
        "print(s)"
      ],
      "metadata": {
        "colab": {
          "base_uri": "https://localhost:8080/"
        },
        "id": "V5C988bc9NGh",
        "outputId": "db09a045-be49-48ee-9959-ba650ecc43c0"
      },
      "execution_count": null,
      "outputs": [
        {
          "output_type": "stream",
          "name": "stdout",
          "text": [
            "123\n"
          ]
        }
      ]
    },
    {
      "cell_type": "code",
      "source": [
        "# var name = 34 # you cannot give space within variable name"
      ],
      "metadata": {
        "id": "sYJ0Hi0V9hLA"
      },
      "execution_count": null,
      "outputs": []
    },
    {
      "cell_type": "code",
      "source": [
        "var_name = 34"
      ],
      "metadata": {
        "id": "SJitTus_-B6i"
      },
      "execution_count": null,
      "outputs": []
    },
    {
      "cell_type": "code",
      "source": [
        "var = 23   # indentataion means - using spaces or tabs at the beginnning of the code\n",
        "\n",
        "print(23)"
      ],
      "metadata": {
        "colab": {
          "base_uri": "https://localhost:8080/"
        },
        "id": "a2fZG-4A-LXQ",
        "outputId": "7158a86c-d819-4851-a937-ed633e105529"
      },
      "execution_count": null,
      "outputs": [
        {
          "output_type": "stream",
          "name": "stdout",
          "text": [
            "23\n"
          ]
        }
      ]
    },
    {
      "cell_type": "code",
      "source": [
        "# everyone be back by 8:10 AM\n",
        "\n",
        "box1 = \"5apples\""
      ],
      "metadata": {
        "id": "iU1wwppo-hmP"
      },
      "execution_count": null,
      "outputs": []
    },
    {
      "cell_type": "markdown",
      "source": [
        "# Datatypes"
      ],
      "metadata": {
        "id": "_pWPKoGyCQNS"
      }
    },
    {
      "cell_type": "markdown",
      "source": [
        "* The values that we store in our variable"
      ],
      "metadata": {
        "id": "7PurcmHiCpOH"
      }
    },
    {
      "cell_type": "code",
      "source": [
        "# Text datatype\n",
        "# str or string : It a data is in text format -> '' or \"\"\n",
        "domain = 'Machine learning'\n",
        "# keyword alert : type()\n",
        "# type() -> it will tell what kind of value is stored in the variable\n",
        "type(domain)"
      ],
      "metadata": {
        "colab": {
          "base_uri": "https://localhost:8080/"
        },
        "id": "2H97zYiuCGUA",
        "outputId": "c46f64a5-d540-4afa-99c8-af8dbf13b022"
      },
      "execution_count": null,
      "outputs": [
        {
          "output_type": "execute_result",
          "data": {
            "text/plain": [
              "str"
            ]
          },
          "metadata": {},
          "execution_count": 49
        }
      ]
    },
    {
      "cell_type": "code",
      "source": [
        "location = \"Delhi\"\n",
        "type(location)"
      ],
      "metadata": {
        "colab": {
          "base_uri": "https://localhost:8080/"
        },
        "id": "ooGFqimXCaZN",
        "outputId": "5e1b7a8c-5c4a-4532-9f1f-f6bf0dbecae6"
      },
      "execution_count": null,
      "outputs": [
        {
          "output_type": "execute_result",
          "data": {
            "text/plain": [
              "str"
            ]
          },
          "metadata": {},
          "execution_count": 50
        }
      ]
    },
    {
      "cell_type": "code",
      "source": [
        "# Numeric data type\n",
        "\n",
        "# int -> Integer() All +ve and -ve number including 0\n",
        "x = 10\n",
        "y = -20\n",
        "print(type(x)) # the type of value stores in x is integer"
      ],
      "metadata": {
        "colab": {
          "base_uri": "https://localhost:8080/"
        },
        "id": "VfWI9tenD8Ad",
        "outputId": "00c93650-9358-477b-f3a7-b7a5ac054fb6"
      },
      "execution_count": null,
      "outputs": [
        {
          "output_type": "stream",
          "name": "stdout",
          "text": [
            "<class 'int'>\n"
          ]
        }
      ]
    },
    {
      "cell_type": "code",
      "source": [
        "type(y)"
      ],
      "metadata": {
        "colab": {
          "base_uri": "https://localhost:8080/"
        },
        "id": "F_ZyH6EhE5vU",
        "outputId": "6af92b0a-0f90-4f21-d5d1-a7ef9ccc8f12"
      },
      "execution_count": null,
      "outputs": [
        {
          "output_type": "execute_result",
          "data": {
            "text/plain": [
              "int"
            ]
          },
          "metadata": {},
          "execution_count": 56
        }
      ]
    },
    {
      "cell_type": "code",
      "source": [
        "print('x=',type(x))"
      ],
      "metadata": {
        "colab": {
          "base_uri": "https://localhost:8080/"
        },
        "id": "Uf4sBRKEERMU",
        "outputId": "e33a521b-4b05-4213-e9ba-f5e4ca276d51"
      },
      "execution_count": null,
      "outputs": [
        {
          "output_type": "stream",
          "name": "stdout",
          "text": [
            "x= <class 'int'>\n"
          ]
        }
      ]
    },
    {
      "cell_type": "code",
      "source": [
        "# float -> All +ve and -ve decimal number\n",
        "\n",
        "x = 15.5\n",
        "\n",
        "print(type(x))\n"
      ],
      "metadata": {
        "colab": {
          "base_uri": "https://localhost:8080/"
        },
        "id": "Yya7Jjh0EnaC",
        "outputId": "ee420a9c-5988-4a5e-861f-a991b53a3158"
      },
      "execution_count": null,
      "outputs": [
        {
          "output_type": "stream",
          "name": "stdout",
          "text": [
            "<class 'float'>\n"
          ]
        }
      ]
    },
    {
      "cell_type": "code",
      "source": [
        "y = -20.9\n",
        "\n",
        "print(type(y))\n",
        "type(y)"
      ],
      "metadata": {
        "colab": {
          "base_uri": "https://localhost:8080/"
        },
        "id": "rt-7QrxvGUwX",
        "outputId": "b8962765-6e5f-4d32-d91a-30264de7fadc"
      },
      "execution_count": null,
      "outputs": [
        {
          "output_type": "stream",
          "name": "stdout",
          "text": [
            "<class 'float'>\n"
          ]
        },
        {
          "output_type": "execute_result",
          "data": {
            "text/plain": [
              "float"
            ]
          },
          "metadata": {},
          "execution_count": 59
        }
      ]
    },
    {
      "cell_type": "code",
      "source": [
        "# boolean -> where we are having True or False value respectively\n",
        "# True -> it is denoting 1 as binary number\n",
        "cond1 = True\n",
        "type(cond1)"
      ],
      "metadata": {
        "colab": {
          "base_uri": "https://localhost:8080/"
        },
        "id": "GQ4lWTiBGg11",
        "outputId": "f320bed5-2100-411b-d28e-323bb9533f62"
      },
      "execution_count": null,
      "outputs": [
        {
          "output_type": "execute_result",
          "data": {
            "text/plain": [
              "bool"
            ]
          },
          "metadata": {},
          "execution_count": 60
        }
      ]
    },
    {
      "cell_type": "code",
      "source": [
        "cond2 = False\n",
        "type(cond2)"
      ],
      "metadata": {
        "colab": {
          "base_uri": "https://localhost:8080/"
        },
        "id": "B5K05lkAHz6o",
        "outputId": "3b8feabe-9b71-4d27-a2be-51a490afdc57"
      },
      "execution_count": null,
      "outputs": [
        {
          "output_type": "execute_result",
          "data": {
            "text/plain": [
              "bool"
            ]
          },
          "metadata": {},
          "execution_count": 61
        }
      ]
    },
    {
      "cell_type": "code",
      "source": [
        "cond1 = \"True12323tyutzdfgfhjkl\"\n",
        "type(cond1)"
      ],
      "metadata": {
        "colab": {
          "base_uri": "https://localhost:8080/"
        },
        "id": "fSHrnnlVIM3n",
        "outputId": "81ea56bb-7087-4e06-ee9e-15fa68963635"
      },
      "execution_count": null,
      "outputs": [
        {
          "output_type": "execute_result",
          "data": {
            "text/plain": [
              "str"
            ]
          },
          "metadata": {},
          "execution_count": 63
        }
      ]
    },
    {
      "cell_type": "markdown",
      "source": [
        "# Operators\n",
        "\n",
        "* operation : To perform certain task\n",
        "* operands : values on which we perform task\n",
        "* operator : The symbol that specify what task to be done\n",
        "* SUM = x + y\n",
        "* SUM is an operation\n",
        "* x and y are operands\n",
        "* '+' is my operator"
      ],
      "metadata": {
        "id": "qdhy0PEpJWbI"
      }
    },
    {
      "cell_type": "markdown",
      "source": [
        "1. Aritmetic operator (perform mathematical operations)\n",
        "2. comparison operator ( compare values and return True and False)\n",
        "3. Logical Operator (used to combine conditional statements)\n",
        "4. Assignment operator (assign value the variables)\n",
        "5. Membership operator(check if a value exist in a sequence)"
      ],
      "metadata": {
        "id": "VlUKQT5PJ9oy"
      }
    },
    {
      "cell_type": "code",
      "source": [
        "# Arithematic operator : where we use all mathematical calculation\n",
        "\n",
        "#(+ , - , * , / , //,**,%)\n",
        "\n",
        "# ADD\n",
        "\n",
        "x = 5\n",
        "y = 2\n",
        "z = x + y\n",
        "print(z)"
      ],
      "metadata": {
        "id": "1I6l1o_JIpOk",
        "colab": {
          "base_uri": "https://localhost:8080/"
        },
        "outputId": "5aa757d0-45ea-4e0f-e033-ef5e9fbe5d39"
      },
      "execution_count": null,
      "outputs": [
        {
          "output_type": "stream",
          "name": "stdout",
          "text": [
            "7\n"
          ]
        }
      ]
    },
    {
      "cell_type": "code",
      "source": [
        "# SUB\n",
        "\n",
        "x = 5\n",
        "y = 2\n",
        "z = x - y\n",
        "print(z)"
      ],
      "metadata": {
        "colab": {
          "base_uri": "https://localhost:8080/"
        },
        "id": "6xi4Zojd-Q9g",
        "outputId": "8db23ba8-c55d-42d6-ffc4-97c235078477"
      },
      "execution_count": null,
      "outputs": [
        {
          "output_type": "stream",
          "name": "stdout",
          "text": [
            "3\n"
          ]
        }
      ]
    },
    {
      "cell_type": "code",
      "source": [
        "# Multiplicataion\n",
        "\n",
        "x = 5\n",
        "y = 2\n",
        "z = x * y\n",
        "print(z)\n"
      ],
      "metadata": {
        "colab": {
          "base_uri": "https://localhost:8080/"
        },
        "id": "AEmMEMLQ-etr",
        "outputId": "271e54bc-52b4-4f6d-aa01-8576d8c1b938"
      },
      "execution_count": null,
      "outputs": [
        {
          "output_type": "stream",
          "name": "stdout",
          "text": [
            "10\n"
          ]
        }
      ]
    },
    {
      "cell_type": "code",
      "source": [
        "# Division -> always in decimal form\n",
        "\n",
        "x = 5\n",
        "y = 2\n",
        "z = x / y\n",
        "print(z)"
      ],
      "metadata": {
        "colab": {
          "base_uri": "https://localhost:8080/"
        },
        "id": "oqV8A4JI-ewX",
        "outputId": "e3a2372d-38b2-4761-ffc4-5bd85a9ade06"
      },
      "execution_count": null,
      "outputs": [
        {
          "output_type": "stream",
          "name": "stdout",
          "text": [
            "2.5\n"
          ]
        }
      ]
    },
    {
      "cell_type": "code",
      "source": [
        "type(z)"
      ],
      "metadata": {
        "colab": {
          "base_uri": "https://localhost:8080/"
        },
        "id": "SjEOZaaH-ezN",
        "outputId": "676bfed8-026c-4750-96fd-f8c5e250b3cd"
      },
      "execution_count": null,
      "outputs": [
        {
          "output_type": "execute_result",
          "data": {
            "text/plain": [
              "float"
            ]
          },
          "metadata": {},
          "execution_count": 5
        }
      ]
    },
    {
      "cell_type": "code",
      "source": [
        "c = 4 / 2\n",
        "print(c)"
      ],
      "metadata": {
        "colab": {
          "base_uri": "https://localhost:8080/"
        },
        "id": "Ehf4qmS4-e2W",
        "outputId": "188197ec-9c73-43d9-9935-b7c4e2daf2f8"
      },
      "execution_count": null,
      "outputs": [
        {
          "output_type": "stream",
          "name": "stdout",
          "text": [
            "2.0\n"
          ]
        }
      ]
    },
    {
      "cell_type": "code",
      "source": [
        "# floor division(//) -> it will not divide the number up until further decimal to\n",
        "# make the remainder as 0\n",
        "\n",
        "\n",
        "x = 5\n",
        "y = 2\n",
        "z = x // y\n",
        "print(z)"
      ],
      "metadata": {
        "colab": {
          "base_uri": "https://localhost:8080/"
        },
        "id": "LbFPqF6H-e5c",
        "outputId": "a66054be-8d41-49a3-b484-b1f561b93a48"
      },
      "execution_count": null,
      "outputs": [
        {
          "output_type": "stream",
          "name": "stdout",
          "text": [
            "2\n"
          ]
        }
      ]
    },
    {
      "cell_type": "code",
      "source": [
        "# exponentiation operator (**) -> power operator\n",
        "\n",
        "x = 5\n",
        "y = 2\n",
        "z = x ** y # x to the power of y ( 5 ^ 2)\n",
        "print(z)"
      ],
      "metadata": {
        "colab": {
          "base_uri": "https://localhost:8080/"
        },
        "id": "Ho7m2Idx-e88",
        "outputId": "2a496f82-8066-4900-f693-998ff5d8502f"
      },
      "execution_count": null,
      "outputs": [
        {
          "output_type": "stream",
          "name": "stdout",
          "text": [
            "25\n"
          ]
        }
      ]
    },
    {
      "cell_type": "code",
      "source": [
        "# modulus operator(%) -> will return the remainder as output\n",
        "\n",
        "x = 5\n",
        "y = 2\n",
        "z = x % y\n",
        "print(z)\n"
      ],
      "metadata": {
        "colab": {
          "base_uri": "https://localhost:8080/"
        },
        "id": "Y6D5i8XIA2AD",
        "outputId": "2dbe4196-bed0-4ed4-d80d-b7d6fc59b7b0"
      },
      "execution_count": null,
      "outputs": [
        {
          "output_type": "stream",
          "name": "stdout",
          "text": [
            "1\n"
          ]
        }
      ]
    },
    {
      "cell_type": "code",
      "source": [
        "# comparison operator\n",
        "\n",
        "# > , < , ==(equals to), <= , >= , !=\n",
        "\n",
        "x = 5\n",
        "y = 6\n",
        "\n",
        "print(x > y)"
      ],
      "metadata": {
        "colab": {
          "base_uri": "https://localhost:8080/"
        },
        "id": "cTpw8UoYBWEX",
        "outputId": "dc95a5e9-51fe-4dab-9e4b-3baa029c6ffa"
      },
      "execution_count": null,
      "outputs": [
        {
          "output_type": "stream",
          "name": "stdout",
          "text": [
            "False\n"
          ]
        }
      ]
    },
    {
      "cell_type": "code",
      "source": [
        "print(x < y)"
      ],
      "metadata": {
        "colab": {
          "base_uri": "https://localhost:8080/"
        },
        "id": "Z5ivYCxjCgvx",
        "outputId": "81947b4d-598b-4ed1-ebad-8a1567c32828"
      },
      "execution_count": null,
      "outputs": [
        {
          "output_type": "stream",
          "name": "stdout",
          "text": [
            "True\n"
          ]
        }
      ]
    },
    {
      "cell_type": "code",
      "source": [
        "print(x == y) # x is equal to y or not\n"
      ],
      "metadata": {
        "colab": {
          "base_uri": "https://localhost:8080/"
        },
        "id": "g1aJJPd9CtOs",
        "outputId": "ecd87f17-39e9-43e7-c516-2e993727b2de"
      },
      "execution_count": null,
      "outputs": [
        {
          "output_type": "stream",
          "name": "stdout",
          "text": [
            "False\n"
          ]
        }
      ]
    },
    {
      "cell_type": "code",
      "source": [
        "print(x >= y ) # if x is greater than y or x is equal to y"
      ],
      "metadata": {
        "colab": {
          "base_uri": "https://localhost:8080/"
        },
        "id": "rY5SS-mFDDtN",
        "outputId": "17b6ff29-b361-41ae-a923-ac5d80aab6a2"
      },
      "execution_count": null,
      "outputs": [
        {
          "output_type": "stream",
          "name": "stdout",
          "text": [
            "False\n"
          ]
        }
      ]
    },
    {
      "cell_type": "code",
      "source": [
        "print(x <= y)  # x is less than y or x is equal to y\n"
      ],
      "metadata": {
        "colab": {
          "base_uri": "https://localhost:8080/"
        },
        "id": "_V2-Byf-DlrP",
        "outputId": "c4d73dcb-f20f-432f-d7ea-ae47d43b030c"
      },
      "execution_count": null,
      "outputs": [
        {
          "output_type": "stream",
          "name": "stdout",
          "text": [
            "True\n"
          ]
        }
      ]
    },
    {
      "cell_type": "code",
      "source": [
        "print(x != y) # if x is not equal to y or not"
      ],
      "metadata": {
        "colab": {
          "base_uri": "https://localhost:8080/"
        },
        "id": "q3qwjQuCEwpY",
        "outputId": "0f6f918f-2ad8-4145-868c-aec6812db0ba"
      },
      "execution_count": null,
      "outputs": [
        {
          "output_type": "stream",
          "name": "stdout",
          "text": [
            "True\n"
          ]
        }
      ]
    },
    {
      "cell_type": "code",
      "source": [
        "x = 100\n",
        "y = 157\n",
        "\n",
        "print(x > y)\n",
        "print(x < y)\n",
        "print(x == y)\n",
        "print(x >= y)\n",
        "print(x <= y)\n",
        "print(x != y)\n"
      ],
      "metadata": {
        "colab": {
          "base_uri": "https://localhost:8080/"
        },
        "id": "Q7pEWLI3EBPe",
        "outputId": "252a40bd-8b6e-4e44-9298-5ec2d8104e22"
      },
      "execution_count": null,
      "outputs": [
        {
          "output_type": "stream",
          "name": "stdout",
          "text": [
            "False\n",
            "True\n",
            "False\n",
            "False\n",
            "True\n",
            "True\n"
          ]
        }
      ]
    },
    {
      "cell_type": "code",
      "source": [
        "#Logical operator\n",
        "\n",
        "# These are used to combine conditional statemnets and return boolean value(True/False)\n",
        "\n",
        "# AND , OR , NOT\n",
        "\n",
        "# AND -> returns True if both the conditions are true, otherwise it returns False\n",
        "\n",
        "x = (5 > 3) and (4 < 6)\n",
        "print(x)"
      ],
      "metadata": {
        "colab": {
          "base_uri": "https://localhost:8080/"
        },
        "id": "549GH1o-E_-O",
        "outputId": "edfb7c8d-1597-4361-ced5-e289b33229f7"
      },
      "execution_count": null,
      "outputs": [
        {
          "output_type": "stream",
          "name": "stdout",
          "text": [
            "True\n"
          ]
        }
      ]
    },
    {
      "cell_type": "code",
      "source": [
        "y = (5 < 3) and (4 < 6)\n",
        "print(y)"
      ],
      "metadata": {
        "colab": {
          "base_uri": "https://localhost:8080/"
        },
        "id": "6SblWvbkFAIK",
        "outputId": "2b351988-106a-4ccc-864c-2e2565bfb185"
      },
      "execution_count": null,
      "outputs": [
        {
          "output_type": "stream",
          "name": "stdout",
          "text": [
            "False\n"
          ]
        }
      ]
    },
    {
      "cell_type": "code",
      "source": [
        "x = 7\n",
        "y = 10\n",
        "z = (x > y) and (y <= x)\n",
        "r = (x < y) and (x != y)\n",
        "print(z)\n",
        "print(r)"
      ],
      "metadata": {
        "colab": {
          "base_uri": "https://localhost:8080/"
        },
        "id": "TVpjGviKFALO",
        "outputId": "01e4c5fa-08c2-46fc-c73b-a278afb7ee73"
      },
      "execution_count": null,
      "outputs": [
        {
          "output_type": "stream",
          "name": "stdout",
          "text": [
            "False\n",
            "True\n"
          ]
        }
      ]
    },
    {
      "cell_type": "code",
      "source": [
        "# OR -> return True , if atleast one condition is True.\n",
        "# Returns False only if both the conditions are False\n",
        "\n",
        "p = (5 > 3) or (4 < 6)\n",
        "print(p)"
      ],
      "metadata": {
        "colab": {
          "base_uri": "https://localhost:8080/"
        },
        "id": "MK9KfrkkFAOn",
        "outputId": "4b68f8af-13e4-46b8-872b-589c9317c26c"
      },
      "execution_count": null,
      "outputs": [
        {
          "output_type": "stream",
          "name": "stdout",
          "text": [
            "True\n"
          ]
        }
      ]
    },
    {
      "cell_type": "code",
      "source": [
        "t = (4 < 7) or (5 > 10)\n",
        "print(t)\n",
        "\n"
      ],
      "metadata": {
        "colab": {
          "base_uri": "https://localhost:8080/"
        },
        "id": "ZMzhDR3LHEIm",
        "outputId": "28e177bf-a474-4862-fa00-1a3672202891"
      },
      "execution_count": null,
      "outputs": [
        {
          "output_type": "stream",
          "name": "stdout",
          "text": [
            "True\n"
          ]
        }
      ]
    },
    {
      "cell_type": "code",
      "source": [
        "# not -> reverse the boolean value of the operand\n",
        "\n",
        "x = not(5 > 3)\n",
        "\n",
        "print(x)"
      ],
      "metadata": {
        "colab": {
          "base_uri": "https://localhost:8080/"
        },
        "id": "bZjriThZHUSU",
        "outputId": "6d10be0c-8ff9-4f63-e628-320e25e06915"
      },
      "execution_count": null,
      "outputs": [
        {
          "output_type": "stream",
          "name": "stdout",
          "text": [
            "False\n"
          ]
        }
      ]
    },
    {
      "cell_type": "code",
      "source": [
        "# Assignment operator\n",
        "\n",
        "# They are used to assign or reassign values to the variables\n",
        "\n",
        "# They are used with the arithematic operators to perform operations on variables\n",
        "# and update its value\n",
        "\n",
        "\n",
        "x = 5 # assigned the value 5 to x\n",
        "\n",
        "print(x)\n",
        "\n"
      ],
      "metadata": {
        "colab": {
          "base_uri": "https://localhost:8080/"
        },
        "id": "j1b7Rw0pIGzx",
        "outputId": "2b319d2b-b3b8-4e4c-e79d-db9d73f1eec1"
      },
      "execution_count": null,
      "outputs": [
        {
          "output_type": "stream",
          "name": "stdout",
          "text": [
            "5\n"
          ]
        }
      ]
    },
    {
      "cell_type": "code",
      "source": [
        "# add and assign\n",
        "\n",
        "# x = x + 5 , add 5 to x , then updating x\n",
        "\n",
        "x += 5\n",
        "\n",
        "# the + before = tells python to add something to the variable\n",
        "\n",
        "# the = assign the result of addition back to the same variable"
      ],
      "metadata": {
        "id": "8Zq0jgAiJV3A"
      },
      "execution_count": null,
      "outputs": []
    },
    {
      "cell_type": "code",
      "source": [
        "print(x)"
      ],
      "metadata": {
        "colab": {
          "base_uri": "https://localhost:8080/"
        },
        "id": "74trZO9lJvD8",
        "outputId": "ca2b4b94-1792-44c9-f2d2-75f985ee8afa"
      },
      "execution_count": null,
      "outputs": [
        {
          "output_type": "stream",
          "name": "stdout",
          "text": [
            "10\n"
          ]
        }
      ]
    },
    {
      "cell_type": "code",
      "source": [
        "r = 12\n",
        "\n",
        "r += 3 # r = 12 + 3\n",
        "\n",
        "print(r)\n",
        "\n"
      ],
      "metadata": {
        "colab": {
          "base_uri": "https://localhost:8080/"
        },
        "id": "tCC9NMOdKYPu",
        "outputId": "cbb2eaad-6058-4ebe-b601-c5ece5770010"
      },
      "execution_count": null,
      "outputs": [
        {
          "output_type": "stream",
          "name": "stdout",
          "text": [
            "15\n"
          ]
        }
      ]
    },
    {
      "cell_type": "code",
      "source": [
        "# subtract and assign\n",
        "\n",
        "y = 12\n",
        "\n",
        "y -= 5 # y = y-5 # y = 12-5\n",
        "\n",
        "print(y)"
      ],
      "metadata": {
        "colab": {
          "base_uri": "https://localhost:8080/"
        },
        "id": "FZTL_X6HJyYy",
        "outputId": "14b561cf-dcab-4068-a07d-877d7c38e707"
      },
      "execution_count": null,
      "outputs": [
        {
          "output_type": "stream",
          "name": "stdout",
          "text": [
            "7\n"
          ]
        }
      ]
    },
    {
      "cell_type": "code",
      "source": [
        "u = 7\n",
        "\n",
        "u = u + 3 # u += 3\n",
        "\n",
        "print(u)"
      ],
      "metadata": {
        "colab": {
          "base_uri": "https://localhost:8080/"
        },
        "id": "g0TjJ6npKWs3",
        "outputId": "8d6d25bf-9877-463b-d9c0-a392da4f173f"
      },
      "execution_count": null,
      "outputs": [
        {
          "output_type": "stream",
          "name": "stdout",
          "text": [
            "10\n"
          ]
        }
      ]
    },
    {
      "cell_type": "code",
      "source": [
        "t = 3\n",
        "\n",
        "t-=5\n",
        "\n",
        "print(t)"
      ],
      "metadata": {
        "colab": {
          "base_uri": "https://localhost:8080/"
        },
        "id": "SBTA5zTyKyVb",
        "outputId": "849e3dbd-95f2-4210-daa6-2bf0de6eca66"
      },
      "execution_count": null,
      "outputs": [
        {
          "output_type": "stream",
          "name": "stdout",
          "text": [
            "-2\n"
          ]
        }
      ]
    },
    {
      "cell_type": "code",
      "source": [
        "# multiplication and assign\n",
        "\n",
        "\n",
        "p = 7\n",
        "\n",
        "p*= 2 # p = p * 2\n",
        "\n",
        "\n",
        "print(p)"
      ],
      "metadata": {
        "colab": {
          "base_uri": "https://localhost:8080/"
        },
        "id": "hVBxFvzpLXtz",
        "outputId": "fc2a1a00-a47c-4a21-93db-e4cb6dc188cb"
      },
      "execution_count": null,
      "outputs": [
        {
          "output_type": "stream",
          "name": "stdout",
          "text": [
            "14\n"
          ]
        }
      ]
    },
    {
      "cell_type": "code",
      "source": [
        "# division and assign\n",
        "\n",
        "e = 8\n",
        "\n",
        "e /= 2\n",
        "\n",
        "print(e)"
      ],
      "metadata": {
        "colab": {
          "base_uri": "https://localhost:8080/"
        },
        "id": "15M5kQs4LktP",
        "outputId": "0f8302af-0250-4d29-979f-d5df6919484a"
      },
      "execution_count": null,
      "outputs": [
        {
          "output_type": "stream",
          "name": "stdout",
          "text": [
            "4.0\n"
          ]
        }
      ]
    },
    {
      "cell_type": "code",
      "source": [
        "v = 4\n",
        "\n",
        "v %= 3\n",
        "\n",
        "print(v)"
      ],
      "metadata": {
        "colab": {
          "base_uri": "https://localhost:8080/"
        },
        "id": "EAsFTaarLy_l",
        "outputId": "e8282797-8ba7-4404-83db-da613ebc6d64"
      },
      "execution_count": null,
      "outputs": [
        {
          "output_type": "stream",
          "name": "stdout",
          "text": [
            "1\n"
          ]
        }
      ]
    },
    {
      "cell_type": "code",
      "source": [
        "b = 5\n",
        "\n",
        "b **= 2\n",
        "\n",
        "print(b)"
      ],
      "metadata": {
        "colab": {
          "base_uri": "https://localhost:8080/"
        },
        "id": "by941kISMX7N",
        "outputId": "3bce691c-9bfe-4b70-b22f-17579919d27f"
      },
      "execution_count": null,
      "outputs": [
        {
          "output_type": "stream",
          "name": "stdout",
          "text": [
            "25\n"
          ]
        }
      ]
    },
    {
      "cell_type": "code",
      "source": [
        "# try expnentiation and floor division\n"
      ],
      "metadata": {
        "id": "_N312q-iL-m5"
      },
      "execution_count": null,
      "outputs": []
    },
    {
      "cell_type": "markdown",
      "source": [
        "# Data Structures\n",
        "\n",
        "* combine data types together we can create different structures"
      ],
      "metadata": {
        "id": "wA0eksuOPNe1"
      }
    },
    {
      "cell_type": "markdown",
      "source": [
        "# Sequential Datatype\n",
        "\n",
        "* when we have order in between the elements / values\n",
        "\n",
        "* List , Tuple , String"
      ],
      "metadata": {
        "id": "l-zEpj1zPXDs"
      }
    },
    {
      "cell_type": "markdown",
      "source": [
        "# List\n",
        "\n",
        "* A datatypes that stores multiple values / elements of any datatype\n",
        "\n",
        "* list are mutable / changable\n",
        "\n",
        "* we can create list using []\n",
        "\n",
        "* list is not unique (can have duplicate values)"
      ],
      "metadata": {
        "id": "vkBOGQ1tPkCz"
      }
    },
    {
      "cell_type": "code",
      "source": [
        "list1 = [1,2,3,4,5,5,6,\"Name\",\"ram\",10.6,11.9,True,False]"
      ],
      "metadata": {
        "id": "uNS_TdtqMeLo"
      },
      "execution_count": null,
      "outputs": []
    },
    {
      "cell_type": "code",
      "source": [
        "print(list1)"
      ],
      "metadata": {
        "colab": {
          "base_uri": "https://localhost:8080/"
        },
        "id": "atHEnIXlQUYh",
        "outputId": "8e835b92-8f29-4fa0-e5eb-d4642a88a193"
      },
      "execution_count": null,
      "outputs": [
        {
          "output_type": "stream",
          "name": "stdout",
          "text": [
            "[1, 2, 3, 4, 5, 5, 6, 'Name', 'ram', 10.6, 11.9, True, False]\n"
          ]
        }
      ]
    },
    {
      "cell_type": "code",
      "source": [
        "type(list1)"
      ],
      "metadata": {
        "colab": {
          "base_uri": "https://localhost:8080/"
        },
        "id": "g03P2uQwQVzH",
        "outputId": "e1bce33e-ed0b-4943-f6ae-a72bd4eedc08"
      },
      "execution_count": null,
      "outputs": [
        {
          "output_type": "execute_result",
          "data": {
            "text/plain": [
              "list"
            ]
          },
          "metadata": {},
          "execution_count": 49
        }
      ]
    },
    {
      "cell_type": "markdown",
      "source": [
        "# Indexing\n",
        "\n",
        "* Gives the position or location of individual elements\n",
        "\n",
        "* Index always starts from 0\n",
        "\n",
        "* we can pass index inside []"
      ],
      "metadata": {
        "id": "TbrGOpF5Qfbu"
      }
    },
    {
      "cell_type": "code",
      "source": [
        "a = [1,2,3,4,5]\n",
        "\n",
        "# If we are counting from the start or 1\n",
        "# elements -> index position\n",
        "# 1 -> 0th\n",
        "# 2 -> 1st\n",
        "# 3 -> 2nd\n",
        "# 4 -> 3rd\n",
        "# 5 -> 4th"
      ],
      "metadata": {
        "id": "FGCoOOn-QY9R"
      },
      "execution_count": null,
      "outputs": []
    },
    {
      "cell_type": "code",
      "source": [
        "# syntax for indexing\n",
        "\n",
        "#variable_name[index_value]\n",
        "\n",
        "a[1]"
      ],
      "metadata": {
        "colab": {
          "base_uri": "https://localhost:8080/"
        },
        "id": "HbXN88KIRpGk",
        "outputId": "d712de5e-38fb-4f6f-c788-8cb768562526"
      },
      "execution_count": null,
      "outputs": [
        {
          "output_type": "execute_result",
          "data": {
            "text/plain": [
              "2"
            ]
          },
          "metadata": {},
          "execution_count": 52
        }
      ]
    },
    {
      "cell_type": "code",
      "source": [
        "a.index(4)"
      ],
      "metadata": {
        "colab": {
          "base_uri": "https://localhost:8080/"
        },
        "id": "kFBsi0a4UuAy",
        "outputId": "dc29f723-d491-44a7-df91-470014d581f5"
      },
      "execution_count": null,
      "outputs": [
        {
          "output_type": "execute_result",
          "data": {
            "text/plain": [
              "3"
            ]
          },
          "metadata": {},
          "execution_count": 55
        }
      ]
    },
    {
      "cell_type": "code",
      "source": [
        "len(a)"
      ],
      "metadata": {
        "colab": {
          "base_uri": "https://localhost:8080/"
        },
        "id": "hZCLd9N4Vkem",
        "outputId": "246fdc37-f983-453f-b5dc-c85c9310788c"
      },
      "execution_count": null,
      "outputs": [
        {
          "output_type": "execute_result",
          "data": {
            "text/plain": [
              "5"
            ]
          },
          "metadata": {},
          "execution_count": 56
        }
      ]
    },
    {
      "cell_type": "code",
      "source": [
        "negative_index = a.index(4) - len(a)\n",
        "print(negative_index)"
      ],
      "metadata": {
        "colab": {
          "base_uri": "https://localhost:8080/"
        },
        "id": "TTFyy3FTVsfk",
        "outputId": "ffbfa208-e6ec-48a7-cbc0-2014cb9f607b"
      },
      "execution_count": null,
      "outputs": [
        {
          "output_type": "stream",
          "name": "stdout",
          "text": [
            "-2\n"
          ]
        }
      ]
    },
    {
      "cell_type": "code",
      "source": [
        "a[3]"
      ],
      "metadata": {
        "colab": {
          "base_uri": "https://localhost:8080/"
        },
        "id": "MD8HQpXYR3EF",
        "outputId": "fa3d5f7b-6565-4c08-88ff-3e55732004ec"
      },
      "execution_count": null,
      "outputs": [
        {
          "output_type": "execute_result",
          "data": {
            "text/plain": [
              "4"
            ]
          },
          "metadata": {},
          "execution_count": 53
        }
      ]
    },
    {
      "cell_type": "code",
      "source": [
        "# if we are counting from back from 5\n",
        "\n",
        "# 5 -> -1\n",
        "# 4 -> -2\n",
        "# 3 -> -3\n",
        "# 2 -> -4\n",
        "# 1 -> -5"
      ],
      "metadata": {
        "id": "6vvpW2cNR9fe"
      },
      "execution_count": null,
      "outputs": []
    },
    {
      "cell_type": "code",
      "source": [
        "a[-4]"
      ],
      "metadata": {
        "colab": {
          "base_uri": "https://localhost:8080/"
        },
        "id": "67CvOGVbUS3C",
        "outputId": "5e17ed90-2098-40c5-9de8-57c64012757d"
      },
      "execution_count": null,
      "outputs": [
        {
          "output_type": "execute_result",
          "data": {
            "text/plain": [
              "2"
            ]
          },
          "metadata": {},
          "execution_count": 54
        }
      ]
    },
    {
      "cell_type": "markdown",
      "source": [],
      "metadata": {
        "id": "B7w-RSpBFK5l"
      }
    },
    {
      "cell_type": "code",
      "source": [
        "# methods that we have in list\n",
        "\n",
        "# .append() - It adds the element by the end of the list\n",
        "\n",
        "mylist = ['Tea','Milk','Juice','chocolate','Rice']\n",
        "mylist.append('shoes')"
      ],
      "metadata": {
        "id": "NIrHJ5OhUfm6"
      },
      "execution_count": null,
      "outputs": []
    },
    {
      "cell_type": "code",
      "source": [
        "print(mylist)"
      ],
      "metadata": {
        "colab": {
          "base_uri": "https://localhost:8080/"
        },
        "id": "dwzI4n5sH0is",
        "outputId": "5ca400e5-0fbb-48b7-d32e-47a744b517ba"
      },
      "execution_count": null,
      "outputs": [
        {
          "output_type": "stream",
          "name": "stdout",
          "text": [
            "['Tea', 'Milk', 'Juice', 'chocolate', 'Rice', 'shoes']\n"
          ]
        }
      ]
    },
    {
      "cell_type": "code",
      "source": [
        "# .insert() -> insert the value in position\n",
        "# .insert(index,value)\n",
        "\n",
        "list3 = [1,2,3,4]\n",
        "list3.insert(2,10)\n",
        "print(list3)"
      ],
      "metadata": {
        "colab": {
          "base_uri": "https://localhost:8080/"
        },
        "id": "QlrvtGE9H3z7",
        "outputId": "f8a2d2c5-3d52-4841-f4ca-aab1e1e623c6"
      },
      "execution_count": null,
      "outputs": [
        {
          "output_type": "stream",
          "name": "stdout",
          "text": [
            "[1, 2, 10, 3, 4]\n"
          ]
        }
      ]
    },
    {
      "cell_type": "code",
      "source": [
        "list3[2] = 100\n",
        "print(list3)"
      ],
      "metadata": {
        "colab": {
          "base_uri": "https://localhost:8080/"
        },
        "id": "ViAireULIm7O",
        "outputId": "03f51149-da28-4109-a371-3ba6f1e61b9e"
      },
      "execution_count": null,
      "outputs": [
        {
          "output_type": "stream",
          "name": "stdout",
          "text": [
            "[1, 2, 100, 3, 4]\n"
          ]
        }
      ]
    },
    {
      "cell_type": "code",
      "source": [
        "# .remove() -> remove/delete the element from the list\n",
        "\n",
        "list3 = [1,2,10,3,4]\n",
        "list3.remove(10)\n",
        "print(list3)\n"
      ],
      "metadata": {
        "colab": {
          "base_uri": "https://localhost:8080/"
        },
        "id": "Wjl6RVvLI3u4",
        "outputId": "67707f62-4154-469b-9803-e6ae253f0ce8"
      },
      "execution_count": null,
      "outputs": [
        {
          "output_type": "stream",
          "name": "stdout",
          "text": [
            "[1, 2, 3, 4]\n"
          ]
        }
      ]
    },
    {
      "cell_type": "code",
      "source": [
        "# .pop() - remove the element and return the value\n",
        "booklist = ['b1','b2','b3','b4']\n",
        "booklist.pop(2)"
      ],
      "metadata": {
        "colab": {
          "base_uri": "https://localhost:8080/",
          "height": 35
        },
        "id": "SHd0opikJS18",
        "outputId": "c3d3572a-8552-4671-f3bf-99b4fb4a365f"
      },
      "execution_count": null,
      "outputs": [
        {
          "output_type": "execute_result",
          "data": {
            "text/plain": [
              "'b3'"
            ],
            "application/vnd.google.colaboratory.intrinsic+json": {
              "type": "string"
            }
          },
          "metadata": {},
          "execution_count": 6
        }
      ]
    },
    {
      "cell_type": "code",
      "source": [
        "print(booklist)"
      ],
      "metadata": {
        "colab": {
          "base_uri": "https://localhost:8080/"
        },
        "id": "OiyJHYWkJ0WR",
        "outputId": "fb877761-3503-4f16-882e-e108c795f44d"
      },
      "execution_count": null,
      "outputs": [
        {
          "output_type": "stream",
          "name": "stdout",
          "text": [
            "['b1', 'b2', 'b4']\n"
          ]
        }
      ]
    },
    {
      "cell_type": "code",
      "source": [
        "list4 = [1,2,10,10,12]\n",
        "\n",
        "list4.remove(10)\n",
        "print(list4)"
      ],
      "metadata": {
        "colab": {
          "base_uri": "https://localhost:8080/"
        },
        "id": "wUmbN3i9J4w8",
        "outputId": "a5650bca-ca11-4ea7-c457-e4fb01b96cee"
      },
      "execution_count": null,
      "outputs": [
        {
          "output_type": "stream",
          "name": "stdout",
          "text": [
            "[1, 2, 10, 12]\n"
          ]
        }
      ]
    },
    {
      "cell_type": "code",
      "source": [
        "\n",
        "mylist = ['Tea','Milk','Juice','chocolate','Rice']\n",
        "pramodslist = ['Car','Car Cover','Oiling','Carwashkit']\n",
        "# .extend() - It will add mulitple elements by the end of the list\n",
        "\n",
        "mylist.extend(pramodslist)\n",
        "print(mylist)\n"
      ],
      "metadata": {
        "colab": {
          "base_uri": "https://localhost:8080/"
        },
        "id": "RZKSqtYKK0JL",
        "outputId": "d516a306-c887-4911-d209-a882e92d3f5e"
      },
      "execution_count": null,
      "outputs": [
        {
          "output_type": "stream",
          "name": "stdout",
          "text": [
            "['Tea', 'Milk', 'Juice', 'chocolate', 'Rice', 'Car', 'Car Cover', 'Oiling', 'Carwashkit']\n"
          ]
        }
      ]
    },
    {
      "cell_type": "markdown",
      "source": [
        "# Tuple\n",
        "\n",
        "* It is immutable/unchangable\n",
        "* It can also have duplicate values\n",
        "* have indexing order\n",
        "* To create a tuple we use ()\n"
      ],
      "metadata": {
        "id": "FSJ6d1aTMfMz"
      }
    },
    {
      "cell_type": "code",
      "source": [
        "tup1 = (1,2,3,4,5)"
      ],
      "metadata": {
        "id": "lPdNHHGgL3eD"
      },
      "execution_count": null,
      "outputs": []
    },
    {
      "cell_type": "code",
      "source": [
        "print(tup1)"
      ],
      "metadata": {
        "colab": {
          "base_uri": "https://localhost:8080/"
        },
        "id": "3HGOF2Z1N8tJ",
        "outputId": "d2a670b9-4c91-42b9-d8c1-f625bdd2d93d"
      },
      "execution_count": null,
      "outputs": [
        {
          "output_type": "stream",
          "name": "stdout",
          "text": [
            "(1, 2, 3, 4, 5)\n"
          ]
        }
      ]
    },
    {
      "cell_type": "code",
      "source": [
        "type(tup1)"
      ],
      "metadata": {
        "colab": {
          "base_uri": "https://localhost:8080/"
        },
        "id": "qdWhUGgvN_XH",
        "outputId": "157da7bf-1d49-442f-e3ad-faf3f3b62280"
      },
      "execution_count": null,
      "outputs": [
        {
          "output_type": "execute_result",
          "data": {
            "text/plain": [
              "tuple"
            ]
          },
          "metadata": {},
          "execution_count": 12
        }
      ]
    },
    {
      "cell_type": "code",
      "source": [
        "tup1[3]"
      ],
      "metadata": {
        "colab": {
          "base_uri": "https://localhost:8080/"
        },
        "id": "A94S6wTvOCV4",
        "outputId": "2a058ccb-4d15-45eb-949b-ae4fb1129250"
      },
      "execution_count": null,
      "outputs": [
        {
          "output_type": "execute_result",
          "data": {
            "text/plain": [
              "4"
            ]
          },
          "metadata": {},
          "execution_count": 13
        }
      ]
    },
    {
      "cell_type": "code",
      "source": [
        "tup2 = (1,4,\"amal\",True,False,12.4)\n"
      ],
      "metadata": {
        "id": "qP9148sPOLss"
      },
      "execution_count": null,
      "outputs": []
    },
    {
      "cell_type": "code",
      "source": [
        "type(tup2)"
      ],
      "metadata": {
        "colab": {
          "base_uri": "https://localhost:8080/"
        },
        "id": "WkyrVaEKOu3N",
        "outputId": "cd325336-4579-4b18-b53b-696d8216db0d"
      },
      "execution_count": null,
      "outputs": [
        {
          "output_type": "execute_result",
          "data": {
            "text/plain": [
              "tuple"
            ]
          },
          "metadata": {},
          "execution_count": 15
        }
      ]
    },
    {
      "cell_type": "code",
      "source": [
        "# tup = (1,2,3)\n",
        "# tup.append(4)"
      ],
      "metadata": {
        "id": "gE7amcCyOwno"
      },
      "execution_count": null,
      "outputs": []
    },
    {
      "cell_type": "code",
      "source": [
        "# Methods in tuple\n",
        "# .count() - counts how many time the value has been repeated(frequency of the number)\n",
        "# .count(element)\n",
        "tup2 = (1,2,3,3,2,6,6,7)\n",
        "print(tup2.count(6))"
      ],
      "metadata": {
        "colab": {
          "base_uri": "https://localhost:8080/"
        },
        "id": "kri6shYiPQjz",
        "outputId": "893a1044-c488-41f3-c221-2cd636cf4751"
      },
      "execution_count": null,
      "outputs": [
        {
          "output_type": "stream",
          "name": "stdout",
          "text": [
            "2\n"
          ]
        }
      ]
    },
    {
      "cell_type": "code",
      "source": [
        "# index() -> gives the index number of a particular element\n",
        "tup4 = (1,3,4,5)\n",
        "tup4.index(4) #.index(element)"
      ],
      "metadata": {
        "colab": {
          "base_uri": "https://localhost:8080/"
        },
        "id": "A64-cxhRPxTc",
        "outputId": "0390699d-6749-4664-f771-1e63cc389615"
      },
      "execution_count": null,
      "outputs": [
        {
          "output_type": "execute_result",
          "data": {
            "text/plain": [
              "2"
            ]
          },
          "metadata": {},
          "execution_count": 19
        }
      ]
    },
    {
      "cell_type": "markdown",
      "source": [
        "# String\n",
        "\n",
        "* Text type of data we can store\n",
        "* \"\" or ''"
      ],
      "metadata": {
        "id": "jBEWxfn8Q3cQ"
      }
    },
    {
      "cell_type": "code",
      "source": [
        "Name = \"Aryan\"\n",
        "print(Name[2])"
      ],
      "metadata": {
        "colab": {
          "base_uri": "https://localhost:8080/"
        },
        "id": "FmbSO07FQQRW",
        "outputId": "ad0fa63a-bded-467a-fb4a-6e7eba02483d"
      },
      "execution_count": null,
      "outputs": [
        {
          "output_type": "stream",
          "name": "stdout",
          "text": [
            "y\n"
          ]
        }
      ]
    },
    {
      "cell_type": "markdown",
      "source": [
        "# slicing\n",
        "\n",
        "slicing allows you to extract a portion of string using the format:\n",
        "\n",
        "string[start : end : step]\n",
        "\n",
        "start -> The starting index (inclusive, default = 0)\n",
        "\n",
        "end -> The stopping index (exculsive)\n",
        "\n",
        "step -> The step size (default = 1)"
      ],
      "metadata": {
        "id": "jGYAXn9NRfdU"
      }
    },
    {
      "cell_type": "code",
      "source": [
        "text = \"PythonProgramming\"\n",
        "\n",
        "# Extract \"python\"\n",
        "# end index is exculded so , we will not be able to get the element at\n",
        "# ending index to get the element at the ending index we use end_index + 1\n",
        "print(text[0 : 5+1])"
      ],
      "metadata": {
        "colab": {
          "base_uri": "https://localhost:8080/"
        },
        "id": "nXZbNKVcRTVN",
        "outputId": "9ac60900-1b3c-4209-ba2e-9aaefdcdc9c9"
      },
      "execution_count": null,
      "outputs": [
        {
          "output_type": "stream",
          "name": "stdout",
          "text": [
            "Python\n"
          ]
        }
      ]
    },
    {
      "cell_type": "code",
      "source": [
        "print(text[0:6])"
      ],
      "metadata": {
        "colab": {
          "base_uri": "https://localhost:8080/"
        },
        "id": "BFRNg5Z2SKeT",
        "outputId": "6f1efb83-9a74-4125-c33e-a67effce604a"
      },
      "execution_count": null,
      "outputs": [
        {
          "output_type": "stream",
          "name": "stdout",
          "text": [
            "Python\n"
          ]
        }
      ]
    },
    {
      "cell_type": "code",
      "source": [
        "len(text)  # len - length of the string"
      ],
      "metadata": {
        "colab": {
          "base_uri": "https://localhost:8080/"
        },
        "id": "3HISG_xGS2ip",
        "outputId": "cbff4852-4f33-42c8-d855-d1c38c10beae"
      },
      "execution_count": null,
      "outputs": [
        {
          "output_type": "execute_result",
          "data": {
            "text/plain": [
              "17"
            ]
          },
          "metadata": {},
          "execution_count": 26
        }
      ]
    },
    {
      "cell_type": "code",
      "source": [
        "# extract programming\n",
        "\n",
        "print(text[6:])"
      ],
      "metadata": {
        "colab": {
          "base_uri": "https://localhost:8080/"
        },
        "id": "Wj3IgUiUTYsp",
        "outputId": "79006827-ade6-424e-e393-bd54b78f4195"
      },
      "execution_count": null,
      "outputs": [
        {
          "output_type": "stream",
          "name": "stdout",
          "text": [
            "Programming\n"
          ]
        }
      ]
    },
    {
      "cell_type": "code",
      "source": [
        "text = \"PythonProgramming\"\n",
        "# extract 'yth'\n",
        "text[1:4]\n"
      ],
      "metadata": {
        "colab": {
          "base_uri": "https://localhost:8080/",
          "height": 35
        },
        "id": "4HxKkTjkT-YU",
        "outputId": "b9b12aef-36bc-4c0c-80fc-6c83eb438006"
      },
      "execution_count": null,
      "outputs": [
        {
          "output_type": "execute_result",
          "data": {
            "text/plain": [
              "'yth'"
            ],
            "application/vnd.google.colaboratory.intrinsic+json": {
              "type": "string"
            }
          },
          "metadata": {},
          "execution_count": 30
        }
      ]
    },
    {
      "cell_type": "code",
      "source": [
        "list1 = [1,2,3,4,5,6,7,8]\n",
        "# extract 2,4,6,8\n",
        "list1[1::2]  # every second element starting from index 1\n",
        "\n"
      ],
      "metadata": {
        "colab": {
          "base_uri": "https://localhost:8080/"
        },
        "id": "Ni0X1qmkVB8X",
        "outputId": "6a5f60f6-7a7e-4aec-d6a2-4653aa6edf3d"
      },
      "execution_count": null,
      "outputs": [
        {
          "output_type": "execute_result",
          "data": {
            "text/plain": [
              "[2, 4, 6, 8]"
            ]
          },
          "metadata": {},
          "execution_count": 31
        }
      ]
    },
    {
      "cell_type": "code",
      "source": [
        "1-0 ----\n",
        "2-1\n",
        "3-2\n",
        "4-3-----\n",
        "5-4\n",
        "6-5\n",
        "7-6------\n",
        "8-7"
      ],
      "metadata": {
        "id": "XmbfdXfSWrdr"
      },
      "execution_count": null,
      "outputs": []
    },
    {
      "cell_type": "code",
      "source": [
        "list1[::3]  # this used for fetching every third element from the list"
      ],
      "metadata": {
        "colab": {
          "base_uri": "https://localhost:8080/"
        },
        "id": "aNKUVdfbVcHC",
        "outputId": "6e9f0597-161d-4b3c-cea2-59e65af541d4"
      },
      "execution_count": null,
      "outputs": [
        {
          "output_type": "execute_result",
          "data": {
            "text/plain": [
              "[1, 4, 7]"
            ]
          },
          "metadata": {},
          "execution_count": 32
        }
      ]
    },
    {
      "cell_type": "code",
      "source": [
        "# methods in dtring\n",
        "\n",
        "# .upper() -> capitalize all the values\n",
        "\n",
        "name = \"Ayush\"\n",
        "print(name.upper())"
      ],
      "metadata": {
        "colab": {
          "base_uri": "https://localhost:8080/"
        },
        "id": "A1csUnZKWqMg",
        "outputId": "b2863e76-b943-43bb-cf0e-6bf0807162c8"
      },
      "execution_count": null,
      "outputs": [
        {
          "output_type": "stream",
          "name": "stdout",
          "text": [
            "AYUSH\n"
          ]
        }
      ]
    },
    {
      "cell_type": "code",
      "source": [
        "# .lower() -> convert all the values in lowercase\n",
        "\n",
        "print(name.lower())\n",
        "name[0].upper()"
      ],
      "metadata": {
        "colab": {
          "base_uri": "https://localhost:8080/",
          "height": 53
        },
        "id": "5JIJRW42brnp",
        "outputId": "84bbe407-9dd6-4883-e3f2-5b5d29c8ee04"
      },
      "execution_count": null,
      "outputs": [
        {
          "output_type": "stream",
          "name": "stdout",
          "text": [
            "ayush\n"
          ]
        },
        {
          "output_type": "execute_result",
          "data": {
            "text/plain": [
              "'A'"
            ],
            "application/vnd.google.colaboratory.intrinsic+json": {
              "type": "string"
            }
          },
          "metadata": {},
          "execution_count": 40
        }
      ]
    },
    {
      "cell_type": "code",
      "source": [
        "# concatenation -> combining strings\n",
        "\n",
        "fname = \"ram\"\n",
        "lname = \"sita\"\n",
        "\n",
        "fullname = fname + \" \" + \" \" + lname\n",
        "print(fullname)"
      ],
      "metadata": {
        "colab": {
          "base_uri": "https://localhost:8080/"
        },
        "id": "Bq3OnCynb1Br",
        "outputId": "9a4786aa-09d9-431c-c566-36b3ed4770a8"
      },
      "execution_count": null,
      "outputs": [
        {
          "output_type": "stream",
          "name": "stdout",
          "text": [
            "ram  sita\n"
          ]
        }
      ]
    },
    {
      "cell_type": "code",
      "source": [
        "len(fullname)"
      ],
      "metadata": {
        "colab": {
          "base_uri": "https://localhost:8080/"
        },
        "id": "cSpZpmMfcA-_",
        "outputId": "1ad4d09b-49ce-4b3a-8507-374989492656"
      },
      "execution_count": null,
      "outputs": [
        {
          "output_type": "execute_result",
          "data": {
            "text/plain": [
              "8"
            ]
          },
          "metadata": {},
          "execution_count": 38
        }
      ]
    },
    {
      "cell_type": "code",
      "source": [
        "fullname = \"ram\""
      ],
      "metadata": {
        "id": "N_jopjlUctMi"
      },
      "execution_count": null,
      "outputs": []
    },
    {
      "cell_type": "code",
      "source": [
        "print(fullname[0].upper() + fullname[1:])"
      ],
      "metadata": {
        "colab": {
          "base_uri": "https://localhost:8080/"
        },
        "id": "lVxMdGkxgGCl",
        "outputId": "ad79fbc6-60a2-468a-af94-a658bf40d5f9"
      },
      "execution_count": null,
      "outputs": [
        {
          "output_type": "stream",
          "name": "stdout",
          "text": [
            "Ram\n"
          ]
        }
      ]
    },
    {
      "cell_type": "markdown",
      "source": [
        "# Sets\n",
        "\n",
        "* collection of unique elements\n",
        "* have no order (indexing)\n",
        "* Mutable\n",
        "* {}"
      ],
      "metadata": {
        "id": "0NA4-D-QqyST"
      }
    },
    {
      "cell_type": "code",
      "source": [
        "set1 = {1,2,3,4,5,6,6}"
      ],
      "metadata": {
        "id": "Nk9xn4S_gVzJ"
      },
      "execution_count": null,
      "outputs": []
    },
    {
      "cell_type": "code",
      "source": [
        "print(set1)"
      ],
      "metadata": {
        "colab": {
          "base_uri": "https://localhost:8080/"
        },
        "id": "Ks9sqMcruqSv",
        "outputId": "230829d6-3e97-46c4-cac5-dbe785a597be"
      },
      "execution_count": null,
      "outputs": [
        {
          "output_type": "stream",
          "name": "stdout",
          "text": [
            "{1, 2, 3, 4, 5, 6}\n"
          ]
        }
      ]
    },
    {
      "cell_type": "code",
      "source": [
        "set2 = {12.3,89.7,32,23,True,False}"
      ],
      "metadata": {
        "id": "guhF37B7vUTs"
      },
      "execution_count": null,
      "outputs": []
    },
    {
      "cell_type": "code",
      "source": [
        "set2"
      ],
      "metadata": {
        "colab": {
          "base_uri": "https://localhost:8080/"
        },
        "id": "OzVi2W6Iv3sT",
        "outputId": "41581382-a802-4a8a-dbc8-6aaf7f12baff"
      },
      "execution_count": null,
      "outputs": [
        {
          "output_type": "execute_result",
          "data": {
            "text/plain": [
              "{False, True, 12.3, 23, 32, 89.7}"
            ]
          },
          "metadata": {},
          "execution_count": 4
        }
      ]
    },
    {
      "cell_type": "code",
      "source": [
        "# Methods in sets\n",
        "\n",
        "# .add() -> To add a single element in a set\n",
        "\n",
        "set3 = {2,3,4,5}\n",
        "set3.add('a')"
      ],
      "metadata": {
        "id": "GZ-SjeX9v4zT"
      },
      "execution_count": null,
      "outputs": []
    },
    {
      "cell_type": "code",
      "source": [
        "print(set3)"
      ],
      "metadata": {
        "colab": {
          "base_uri": "https://localhost:8080/"
        },
        "id": "NDp_EOXAwKMx",
        "outputId": "dc812dba-e8de-4ec9-e8d3-47f7beaafd19"
      },
      "execution_count": null,
      "outputs": [
        {
          "output_type": "stream",
          "name": "stdout",
          "text": [
            "{2, 3, 'a', 4, 5}\n"
          ]
        }
      ]
    },
    {
      "cell_type": "code",
      "source": [
        "set3.add(4)"
      ],
      "metadata": {
        "id": "VQaZXZNgwnfy"
      },
      "execution_count": null,
      "outputs": []
    },
    {
      "cell_type": "code",
      "source": [
        "print(set3)"
      ],
      "metadata": {
        "colab": {
          "base_uri": "https://localhost:8080/"
        },
        "id": "7xXr1_sjw6ST",
        "outputId": "963e1f74-619d-4748-e0d9-a73c89f79dec"
      },
      "execution_count": null,
      "outputs": [
        {
          "output_type": "stream",
          "name": "stdout",
          "text": [
            "{2, 3, 'a', 4, 5}\n"
          ]
        }
      ]
    },
    {
      "cell_type": "code",
      "source": [
        "# .update()- To add multiple elements\n",
        "\n",
        "set3.update(['a','A']) # updating set using list\n",
        "\n",
        "print(set3)"
      ],
      "metadata": {
        "colab": {
          "base_uri": "https://localhost:8080/"
        },
        "id": "cpILAbUOw7l6",
        "outputId": "746047be-db6d-4ff2-c847-13240eb670ad"
      },
      "execution_count": null,
      "outputs": [
        {
          "output_type": "stream",
          "name": "stdout",
          "text": [
            "{2, 3, 'a', 4, 5, 'A'}\n"
          ]
        }
      ]
    },
    {
      "cell_type": "code",
      "source": [
        "set3.update((1,2,3))  # updating set using tuple"
      ],
      "metadata": {
        "id": "O-WLRstcxS-C"
      },
      "execution_count": null,
      "outputs": []
    },
    {
      "cell_type": "code",
      "source": [
        "print(set3)"
      ],
      "metadata": {
        "colab": {
          "base_uri": "https://localhost:8080/"
        },
        "id": "8iCTgPnGxn0_",
        "outputId": "74a4c797-48e1-47be-817d-3a3b8c8bdea9"
      },
      "execution_count": null,
      "outputs": [
        {
          "output_type": "stream",
          "name": "stdout",
          "text": [
            "{1, 2, 3, 'a', 4, 5, 'A'}\n"
          ]
        }
      ]
    },
    {
      "cell_type": "code",
      "source": [
        "set3.update({45,67}) # updating set using set"
      ],
      "metadata": {
        "id": "407LPSJCxqEB"
      },
      "execution_count": null,
      "outputs": []
    },
    {
      "cell_type": "code",
      "source": [
        "print(set3)"
      ],
      "metadata": {
        "colab": {
          "base_uri": "https://localhost:8080/"
        },
        "id": "mRwtLAgqxunr",
        "outputId": "a9a77004-bd1d-4cb0-c7df-fd725d6e2b8c"
      },
      "execution_count": null,
      "outputs": [
        {
          "output_type": "stream",
          "name": "stdout",
          "text": [
            "{1, 2, 3, 'a', 4, 5, 67, 45, 'A'}\n"
          ]
        }
      ]
    },
    {
      "cell_type": "code",
      "source": [
        "student = {(1,2,3),(3,4,5)}  #  is possible here"
      ],
      "metadata": {
        "id": "RmMsBO2hxwsS"
      },
      "execution_count": null,
      "outputs": []
    },
    {
      "cell_type": "code",
      "source": [
        "student = {1,2,[3,4]} # indexing is not alllowed"
      ],
      "metadata": {
        "colab": {
          "base_uri": "https://localhost:8080/",
          "height": 141
        },
        "id": "2eZH1dfny5u4",
        "outputId": "7bdf777b-d60b-4299-fbaf-0a646955ed8e"
      },
      "execution_count": null,
      "outputs": [
        {
          "output_type": "error",
          "ename": "TypeError",
          "evalue": "unhashable type: 'list'",
          "traceback": [
            "\u001b[0;31m---------------------------------------------------------------------------\u001b[0m",
            "\u001b[0;31mTypeError\u001b[0m                                 Traceback (most recent call last)",
            "\u001b[0;32m<ipython-input-17-382af9514f59>\u001b[0m in \u001b[0;36m<cell line: 0>\u001b[0;34m()\u001b[0m\n\u001b[0;32m----> 1\u001b[0;31m \u001b[0mstudent\u001b[0m \u001b[0;34m=\u001b[0m \u001b[0;34m{\u001b[0m\u001b[0;36m1\u001b[0m\u001b[0;34m,\u001b[0m\u001b[0;36m2\u001b[0m\u001b[0;34m,\u001b[0m\u001b[0;34m[\u001b[0m\u001b[0;36m3\u001b[0m\u001b[0;34m,\u001b[0m\u001b[0;36m4\u001b[0m\u001b[0;34m]\u001b[0m\u001b[0;34m}\u001b[0m \u001b[0;31m# removal is not possible\u001b[0m\u001b[0;34m\u001b[0m\u001b[0;34m\u001b[0m\u001b[0m\n\u001b[0m",
            "\u001b[0;31mTypeError\u001b[0m: unhashable type: 'list'"
          ]
        }
      ]
    },
    {
      "cell_type": "markdown",
      "source": [
        "**If you want to store a sequence inside a set then you can use tuple insead of list , tuple works because they are immutable**"
      ],
      "metadata": {
        "id": "TkMLoczh0y4w"
      }
    },
    {
      "cell_type": "code",
      "source": [
        "# remove() -> remove and delete\n",
        "\n",
        "set2 = {2,3,4,5}"
      ],
      "metadata": {
        "id": "cyFs_nxfy9cV"
      },
      "execution_count": null,
      "outputs": []
    },
    {
      "cell_type": "code",
      "source": [
        "set2.remove(5)"
      ],
      "metadata": {
        "id": "H5owBD_d1YGJ"
      },
      "execution_count": null,
      "outputs": []
    },
    {
      "cell_type": "code",
      "source": [
        "print(set2)"
      ],
      "metadata": {
        "colab": {
          "base_uri": "https://localhost:8080/"
        },
        "id": "L_hW3Axe1dsJ",
        "outputId": "70e81352-7f7f-448a-da7b-f3102779338c"
      },
      "execution_count": null,
      "outputs": [
        {
          "output_type": "stream",
          "name": "stdout",
          "text": [
            "{2, 3, 4}\n"
          ]
        }
      ]
    },
    {
      "cell_type": "code",
      "source": [
        "# .difference_update - you can remove specific multiple elements from set\n",
        "\n",
        "s = {1,2,3,4,5,6}\n",
        "s.difference_update({2,4,6})\n",
        "print(s)"
      ],
      "metadata": {
        "colab": {
          "base_uri": "https://localhost:8080/"
        },
        "id": "OiYtUYWx1fDs",
        "outputId": "a920b77f-d07e-4ac9-ba04-46af8e836fbc"
      },
      "execution_count": null,
      "outputs": [
        {
          "output_type": "stream",
          "name": "stdout",
          "text": [
            "{1, 3, 5}\n"
          ]
        }
      ]
    },
    {
      "cell_type": "code",
      "source": [
        "# .pop() -> remove and return the value or a random element\n",
        "# beacuse sets are unordered\n",
        "\n",
        "# when you don't care which element is removed\n",
        "\n",
        "set2 = {2,3,4,5,6}"
      ],
      "metadata": {
        "id": "BrItY0eY18Ry"
      },
      "execution_count": null,
      "outputs": []
    },
    {
      "cell_type": "code",
      "source": [
        "set2.pop()"
      ],
      "metadata": {
        "colab": {
          "base_uri": "https://localhost:8080/"
        },
        "id": "PSVHIRhO2cnG",
        "outputId": "9ef5ae3b-ed08-4b1c-d111-0c5fd075c2c7"
      },
      "execution_count": null,
      "outputs": [
        {
          "output_type": "execute_result",
          "data": {
            "text/plain": [
              "2"
            ]
          },
          "metadata": {},
          "execution_count": 24
        }
      ]
    },
    {
      "cell_type": "code",
      "source": [
        "print(set2)"
      ],
      "metadata": {
        "colab": {
          "base_uri": "https://localhost:8080/"
        },
        "id": "fi0G0Hod2fWQ",
        "outputId": "da60b1b7-245e-48c1-c14a-224f05936fcd"
      },
      "execution_count": null,
      "outputs": [
        {
          "output_type": "stream",
          "name": "stdout",
          "text": [
            "{3, 4, 5, 6}\n"
          ]
        }
      ]
    },
    {
      "cell_type": "code",
      "source": [
        "set2.pop()"
      ],
      "metadata": {
        "colab": {
          "base_uri": "https://localhost:8080/"
        },
        "id": "8OT8Pby329qz",
        "outputId": "8316c4d6-e41b-45a0-d12b-8274ea08c443"
      },
      "execution_count": null,
      "outputs": [
        {
          "output_type": "execute_result",
          "data": {
            "text/plain": [
              "3"
            ]
          },
          "metadata": {},
          "execution_count": 26
        }
      ]
    },
    {
      "cell_type": "code",
      "source": [
        "print(set2)"
      ],
      "metadata": {
        "colab": {
          "base_uri": "https://localhost:8080/"
        },
        "id": "Fq6hypip3Q_N",
        "outputId": "467f0df9-0b28-4cf5-fe41-e69ccffcc31c"
      },
      "execution_count": null,
      "outputs": [
        {
          "output_type": "stream",
          "name": "stdout",
          "text": [
            "{4, 5, 6}\n"
          ]
        }
      ]
    },
    {
      "cell_type": "code",
      "source": [
        "set2.pop()"
      ],
      "metadata": {
        "colab": {
          "base_uri": "https://localhost:8080/"
        },
        "id": "dKtfXKYU3TKa",
        "outputId": "92049585-35a8-46bb-c3e9-acc0812c70a6"
      },
      "execution_count": null,
      "outputs": [
        {
          "output_type": "execute_result",
          "data": {
            "text/plain": [
              "4"
            ]
          },
          "metadata": {},
          "execution_count": 28
        }
      ]
    },
    {
      "cell_type": "code",
      "source": [
        "print(set2)"
      ],
      "metadata": {
        "colab": {
          "base_uri": "https://localhost:8080/"
        },
        "id": "0Vu_lKCd34IH",
        "outputId": "ab46a4bd-3e84-47d2-9900-0b2f4434c284"
      },
      "execution_count": null,
      "outputs": [
        {
          "output_type": "stream",
          "name": "stdout",
          "text": [
            "{5, 6}\n"
          ]
        }
      ]
    },
    {
      "cell_type": "code",
      "source": [
        "# .union() -> give all the unique elements present in both the sets\n",
        "\n",
        "set1 = {1,2,3,4}\n",
        "set2 = {3,4,5,6}\n",
        "set3 = {4,5,6,7}\n",
        "\n",
        "print(set1.union(set2,set3))"
      ],
      "metadata": {
        "colab": {
          "base_uri": "https://localhost:8080/"
        },
        "id": "AcRX2NtC36U2",
        "outputId": "d9cb56f3-822b-4169-a8ce-e7499b9e8e6e"
      },
      "execution_count": null,
      "outputs": [
        {
          "output_type": "stream",
          "name": "stdout",
          "text": [
            "{1, 2, 3, 4, 5, 6, 7}\n"
          ]
        }
      ]
    },
    {
      "cell_type": "code",
      "source": [
        "# intersection() --> common value present in both the set\n",
        "\n",
        "set1 = {1,2,3,4}\n",
        "set2 = {3,4,5,6}\n",
        "\n",
        "print(set1.intersection(set2))"
      ],
      "metadata": {
        "colab": {
          "base_uri": "https://localhost:8080/"
        },
        "id": "cuyjoMEe4SYX",
        "outputId": "d2d8ebca-4bae-4784-d974-a6627c041dd2"
      },
      "execution_count": null,
      "outputs": [
        {
          "output_type": "stream",
          "name": "stdout",
          "text": [
            "{3, 4}\n"
          ]
        }
      ]
    },
    {
      "cell_type": "markdown",
      "source": [
        "# Dictionary\n",
        "\n",
        "* key and value pair\n",
        "* Mutable (changable)\n",
        "* we can create {}\n",
        "* keys are always going to be a string , number or a tuple, key will be of immutable datatype.\n",
        "* Values can be of any data type"
      ],
      "metadata": {
        "id": "Hh3ZNL-C8c5l"
      }
    },
    {
      "cell_type": "code",
      "source": [
        "dict1 = {\n",
        "    \"firstName\":[\"Divya\",\"pooja\"],\n",
        "    \"lastName\":\"Rao\",\n",
        "    \"domain\":\"cloud engineer\",\n",
        "    \"pincode\":567897\n",
        "}"
      ],
      "metadata": {
        "id": "vp9PAEWF4787"
      },
      "execution_count": null,
      "outputs": []
    },
    {
      "cell_type": "code",
      "source": [
        "dict1"
      ],
      "metadata": {
        "colab": {
          "base_uri": "https://localhost:8080/"
        },
        "id": "CV2m9iXT9t1I",
        "outputId": "95cf8dac-048f-4cf0-8f4e-df398c1e2f6c"
      },
      "execution_count": null,
      "outputs": [
        {
          "output_type": "execute_result",
          "data": {
            "text/plain": [
              "{'firstName': ['Divya', 'pooja'],\n",
              " 'lastName': 'Rao',\n",
              " 'domain': 'cloud engineer',\n",
              " 'pincode': 567897}"
            ]
          },
          "metadata": {},
          "execution_count": 37
        }
      ]
    },
    {
      "cell_type": "code",
      "source": [
        "# change the value of a key\n",
        "\n",
        "dict1[\"domain\"] = \"data scientist\""
      ],
      "metadata": {
        "id": "eb_DPV0A9vcy"
      },
      "execution_count": null,
      "outputs": []
    },
    {
      "cell_type": "code",
      "source": [
        "dict1"
      ],
      "metadata": {
        "colab": {
          "base_uri": "https://localhost:8080/"
        },
        "id": "GZ0nOgsp-mrQ",
        "outputId": "ad0b125b-f475-4d11-9d56-a9765df1e415"
      },
      "execution_count": null,
      "outputs": [
        {
          "output_type": "execute_result",
          "data": {
            "text/plain": [
              "{'firstName': ['Divya', 'pooja'],\n",
              " 'lastName': 'Rao',\n",
              " 'domain': 'data scientist',\n",
              " 'pincode': 567897}"
            ]
          },
          "metadata": {},
          "execution_count": 40
        }
      ]
    },
    {
      "cell_type": "code",
      "source": [
        "# To add a new key and value pair\n",
        "\n",
        "dict1['favcolor'] = 'blue'"
      ],
      "metadata": {
        "id": "vatVuxZn-srE"
      },
      "execution_count": null,
      "outputs": []
    },
    {
      "cell_type": "code",
      "source": [
        "dict1"
      ],
      "metadata": {
        "colab": {
          "base_uri": "https://localhost:8080/"
        },
        "id": "yEwTSI33_HdS",
        "outputId": "f59211d7-6024-4f22-d126-9d56c8f6df98"
      },
      "execution_count": null,
      "outputs": [
        {
          "output_type": "execute_result",
          "data": {
            "text/plain": [
              "{'firstName': ['Divya', 'pooja'],\n",
              " 'lastName': 'Rao',\n",
              " 'domain': 'data scientist',\n",
              " 'pincode': 567897,\n",
              " 'favcolor': 'blue'}"
            ]
          },
          "metadata": {},
          "execution_count": 42
        }
      ]
    },
    {
      "cell_type": "code",
      "source": [
        "dict1.update({'age':24,'salary':90000})"
      ],
      "metadata": {
        "id": "BM6ni7wQ_IXv"
      },
      "execution_count": null,
      "outputs": []
    },
    {
      "cell_type": "code",
      "source": [
        "dict1"
      ],
      "metadata": {
        "colab": {
          "base_uri": "https://localhost:8080/"
        },
        "id": "NXZDWIg8_g0M",
        "outputId": "c046127b-9d37-4d29-a0ad-fb6236be8028"
      },
      "execution_count": null,
      "outputs": [
        {
          "output_type": "execute_result",
          "data": {
            "text/plain": [
              "{'firstName': ['Divya', 'pooja'],\n",
              " 'lastName': 'Rao',\n",
              " 'domain': 'data scientist',\n",
              " 'pincode': 567897,\n",
              " 'favcolor': 'blue',\n",
              " 'age': 24,\n",
              " 'salary': 90000}"
            ]
          },
          "metadata": {},
          "execution_count": 45
        }
      ]
    },
    {
      "cell_type": "code",
      "source": [
        "my_dict  = {('John','Doe'):'Engineer',('Jane','Smith'):'doctor'}\n",
        "\n",
        "my_dict"
      ],
      "metadata": {
        "colab": {
          "base_uri": "https://localhost:8080/"
        },
        "id": "179I0t-V_jfz",
        "outputId": "50e999e1-09e7-45bd-d64c-35ce8663d60c"
      },
      "execution_count": null,
      "outputs": [
        {
          "output_type": "execute_result",
          "data": {
            "text/plain": [
              "{('John', 'Doe'): 'Engineer', ('Jane', 'Smith'): 'doctor'}"
            ]
          },
          "metadata": {},
          "execution_count": 46
        }
      ]
    },
    {
      "cell_type": "code",
      "source": [
        "grades = {'John':'A','Jane':'B'}"
      ],
      "metadata": {
        "id": "neTRKtCKAFRd"
      },
      "execution_count": null,
      "outputs": []
    },
    {
      "cell_type": "code",
      "source": [
        "# remove the key and value\n",
        "\n",
        "# keyword del\n",
        "\n",
        "del dict1['favcolor']"
      ],
      "metadata": {
        "id": "5sqj2o25A9JN"
      },
      "execution_count": null,
      "outputs": []
    },
    {
      "cell_type": "code",
      "source": [
        "dict1"
      ],
      "metadata": {
        "colab": {
          "base_uri": "https://localhost:8080/"
        },
        "id": "EHNjyZ9LBf56",
        "outputId": "4018dfa9-c2e1-48bc-a893-b7a2b5d586cc"
      },
      "execution_count": null,
      "outputs": [
        {
          "output_type": "execute_result",
          "data": {
            "text/plain": [
              "{'firstName': ['Divya', 'pooja'],\n",
              " 'lastName': 'Rao',\n",
              " 'domain': 'data scientist',\n",
              " 'pincode': 567897,\n",
              " 'age': 24,\n",
              " 'salary': 90000}"
            ]
          },
          "metadata": {},
          "execution_count": 49
        }
      ]
    },
    {
      "cell_type": "code",
      "source": [
        "# methods in dict\n",
        "\n",
        "# .keys() -> gives all the keys present in my dict\n",
        "\n",
        "dict1.keys()"
      ],
      "metadata": {
        "colab": {
          "base_uri": "https://localhost:8080/"
        },
        "id": "2B06c1QuBkUT",
        "outputId": "baf27267-4fbf-40a4-a452-17fd3e681738"
      },
      "execution_count": null,
      "outputs": [
        {
          "output_type": "execute_result",
          "data": {
            "text/plain": [
              "dict_keys(['firstName', 'lastName', 'domain', 'pincode', 'age', 'salary'])"
            ]
          },
          "metadata": {},
          "execution_count": 50
        }
      ]
    },
    {
      "cell_type": "code",
      "source": [
        "# .values() -> all the values present in my dict\n",
        "\n",
        "dict1.values()"
      ],
      "metadata": {
        "colab": {
          "base_uri": "https://localhost:8080/"
        },
        "id": "o3Gd0LawCNb_",
        "outputId": "df4cfba3-a363-450d-afaf-0e966fdbcf48"
      },
      "execution_count": null,
      "outputs": [
        {
          "output_type": "execute_result",
          "data": {
            "text/plain": [
              "dict_values([['Divya', 'pooja'], 'Rao', 'data scientist', 567897, 24, 90000])"
            ]
          },
          "metadata": {},
          "execution_count": 51
        }
      ]
    },
    {
      "cell_type": "code",
      "source": [
        "# .items() - give both key and value pair\n",
        "dict1.items()"
      ],
      "metadata": {
        "colab": {
          "base_uri": "https://localhost:8080/"
        },
        "id": "077dAkQYCWgc",
        "outputId": "6a05f5c7-2159-4728-b0f0-6a5f70a91ae1"
      },
      "execution_count": null,
      "outputs": [
        {
          "output_type": "execute_result",
          "data": {
            "text/plain": [
              "dict_items([('firstName', ['Divya', 'pooja']), ('lastName', 'Rao'), ('domain', 'data scientist'), ('pincode', 567897), ('age', 24), ('salary', 90000)])"
            ]
          },
          "metadata": {},
          "execution_count": 52
        }
      ]
    },
    {
      "cell_type": "markdown",
      "source": [
        "# Conditional Statements"
      ],
      "metadata": {
        "id": "rtfhyVrF16DV"
      }
    },
    {
      "cell_type": "markdown",
      "source": [
        "* To make decision and execute a particular section of code\n",
        "* keywords : if , else , elif"
      ],
      "metadata": {
        "id": "zASgZ-WK35F9"
      }
    },
    {
      "cell_type": "code",
      "source": [
        "# If : when we have only one condition\n",
        "# If condition:\n",
        "#  body\n",
        "\n",
        "# else : when IF condition is not true then else will execute\n",
        "\n",
        "age = int(input(\"enter your age: \"))\n",
        "if age>= 18:\n",
        "  print(\"eligible to vote\")\n",
        "else:\n",
        "  print(\"not eligible to vote\")"
      ],
      "metadata": {
        "id": "2XjjpdEZCehb",
        "colab": {
          "base_uri": "https://localhost:8080/"
        },
        "outputId": "ef9e3639-4e04-4378-9932-8c6126bdd959"
      },
      "execution_count": null,
      "outputs": [
        {
          "output_type": "stream",
          "name": "stdout",
          "text": [
            "enter your age: 56\n",
            "eligible to vote\n"
          ]
        }
      ]
    },
    {
      "cell_type": "markdown",
      "source": [],
      "metadata": {
        "id": "VPzZjjKB_vEG"
      }
    },
    {
      "cell_type": "code",
      "source": [
        "y = int(input(\"enter your name:\"))"
      ],
      "metadata": {
        "colab": {
          "base_uri": "https://localhost:8080/"
        },
        "id": "hNwresDQ5B7Q",
        "outputId": "2ae1f121-7a2a-4e3b-bdea-53d460578cfc"
      },
      "execution_count": null,
      "outputs": [
        {
          "name": "stdout",
          "output_type": "stream",
          "text": [
            "enter your name:12\n"
          ]
        }
      ]
    },
    {
      "cell_type": "code",
      "source": [
        "type(y)"
      ],
      "metadata": {
        "colab": {
          "base_uri": "https://localhost:8080/"
        },
        "id": "iJNsGpBk6vaB",
        "outputId": "b804489d-91ba-4644-82da-c810ee1258d2"
      },
      "execution_count": null,
      "outputs": [
        {
          "output_type": "execute_result",
          "data": {
            "text/plain": [
              "int"
            ]
          },
          "metadata": {},
          "execution_count": 11
        }
      ]
    },
    {
      "cell_type": "code",
      "source": [
        "# elif : If we are having more than one condition\n",
        "# If conditions are independent, use elif\n",
        "marks = int(input(\"enter the marks:\"))\n",
        "\n",
        "if marks >= 90:\n",
        "  print(\"Grade A\")\n",
        "elif marks > 70:\n",
        "  print(\"Grade B\")\n",
        "elif marks > 50:\n",
        "  print(\"Grade C\")\n",
        "else:\n",
        "  print(\"Grade D\")"
      ],
      "metadata": {
        "colab": {
          "base_uri": "https://localhost:8080/"
        },
        "id": "Ev9p_iYg6ye6",
        "outputId": "d7ad74ab-5a92-487b-efac-e304ad6d5f7d"
      },
      "execution_count": null,
      "outputs": [
        {
          "output_type": "stream",
          "name": "stdout",
          "text": [
            "enter the marks:90\n",
            "Grade A\n"
          ]
        }
      ]
    },
    {
      "cell_type": "code",
      "source": [
        "# nested if\n",
        "# If conditions depend on previous checks , use nested if\n",
        "\n",
        "marks = int(input(\"enter the marks:\"))\n",
        "\n",
        "if marks >= 90:\n",
        "  print(\"Grade A\")\n",
        "else:\n",
        "  if marks > 70:\n",
        "    print(\"Grade B\")\n",
        "  else:\n",
        "    if marks > 50:\n",
        "      print(\"Grade C\")\n",
        "    else:\n",
        "      print(\"Grade D\")"
      ],
      "metadata": {
        "colab": {
          "base_uri": "https://localhost:8080/"
        },
        "id": "Cgc9ZXjH9bAx",
        "outputId": "6a5e10e1-d703-4798-8c88-fb4245fe2e9a"
      },
      "execution_count": null,
      "outputs": [
        {
          "output_type": "stream",
          "name": "stdout",
          "text": [
            "enter the marks:45\n",
            "Grade D\n"
          ]
        }
      ]
    },
    {
      "cell_type": "code",
      "source": [
        "# netsed if\n",
        "marks = int(input(\"enter marks:\"))\n",
        "\n",
        "if marks >= 50:  # first condition: pass or fail\n",
        "  print(\"you are passed\")\n",
        "  if marks >= 75:  # second condition is to check the topper\n",
        "    print(\"you are the topper\")\n",
        "else:\n",
        "  print(\"you failed\")"
      ],
      "metadata": {
        "colab": {
          "base_uri": "https://localhost:8080/"
        },
        "id": "PC-xVR-0_zCn",
        "outputId": "5ad78498-fac3-49d4-a2d3-196869d1faf2"
      },
      "execution_count": null,
      "outputs": [
        {
          "output_type": "stream",
          "name": "stdout",
          "text": [
            "enter marks:45\n",
            "you failed\n"
          ]
        }
      ]
    },
    {
      "cell_type": "markdown",
      "source": [
        "# Looping statements"
      ],
      "metadata": {
        "id": "GwGN_usbG6GA"
      }
    },
    {
      "cell_type": "markdown",
      "source": [
        "A loop in a programming is like this repeatative task - It tells the computer to do something over and over agian until certain condition is met"
      ],
      "metadata": {
        "id": "HVeoCBTpHO20"
      }
    },
    {
      "cell_type": "markdown",
      "source": [
        "# For loop\n",
        "\n",
        "A to do list where you already have fixed number of task.\n",
        "\n",
        "A for loop is used when you know ahead how many times you need to repeat something"
      ],
      "metadata": {
        "id": "mYQelLNrIqb7"
      }
    },
    {
      "cell_type": "code",
      "source": [
        "# clean 5 - 10 windows\n",
        "# i is a loop variable (iterator) take different value from range function in each iteration\n",
        "for i in range(1,5):\n",
        "  print(i)\n"
      ],
      "metadata": {
        "colab": {
          "base_uri": "https://localhost:8080/"
        },
        "id": "Q-YKpFOGEKGn",
        "outputId": "4a2421c2-e7df-49b6-cfb0-290f6ecd4733"
      },
      "execution_count": null,
      "outputs": [
        {
          "output_type": "stream",
          "name": "stdout",
          "text": [
            "1\n",
            "2\n",
            "3\n",
            "4\n"
          ]
        }
      ]
    },
    {
      "cell_type": "code",
      "source": [
        "# range() function is used to generate sequence of number\n",
        "for day in range(1,8):\n",
        "  print(\"Day\"+ str(day)+\": distributing movie tickets\")\n"
      ],
      "metadata": {
        "colab": {
          "base_uri": "https://localhost:8080/"
        },
        "id": "sjhSXIypKHKl",
        "outputId": "64c06e3c-555c-4585-cb9b-57729f3e9fc2"
      },
      "execution_count": null,
      "outputs": [
        {
          "output_type": "stream",
          "name": "stdout",
          "text": [
            "Day1: distributing movie tickets\n",
            "Day2: distributing movie tickets\n",
            "Day3: distributing movie tickets\n",
            "Day4: distributing movie tickets\n",
            "Day5: distributing movie tickets\n",
            "Day6: distributing movie tickets\n",
            "Day7: distributing movie tickets\n"
          ]
        }
      ]
    },
    {
      "cell_type": "code",
      "source": [
        "# f means formatted string -> String formatting syntax\n",
        "# It tells python that string conatin placeholders inside the {}\n",
        "# that should be replaced with actual values\n",
        "# f- string are used to insert variables , perform calculations or format data inside strings\n",
        "for day in range(1,8):\n",
        "  print(f\"Day {day} : distributing movie tickets\")"
      ],
      "metadata": {
        "colab": {
          "base_uri": "https://localhost:8080/"
        },
        "id": "zKARqd7kL91f",
        "outputId": "a5505d27-9c35-4329-da6a-6c624f6680c3"
      },
      "execution_count": null,
      "outputs": [
        {
          "output_type": "stream",
          "name": "stdout",
          "text": [
            "Day 1 : distributing movie tickets\n",
            "Day 2 : distributing movie tickets\n",
            "Day 3 : distributing movie tickets\n",
            "Day 4 : distributing movie tickets\n",
            "Day 5 : distributing movie tickets\n",
            "Day 6 : distributing movie tickets\n",
            "Day 7 : distributing movie tickets\n"
          ]
        }
      ]
    },
    {
      "cell_type": "code",
      "source": [
        "pi = 3.14159\n",
        "\n",
        "print(f\"The value of pi is {pi}\")"
      ],
      "metadata": {
        "colab": {
          "base_uri": "https://localhost:8080/"
        },
        "id": "Efr1sdiROyou",
        "outputId": "991c45cd-e1b9-4a4f-9482-5bdef5f85488"
      },
      "execution_count": null,
      "outputs": [
        {
          "output_type": "stream",
          "name": "stdout",
          "text": [
            "The value of pi is 3.14159\n"
          ]
        }
      ]
    },
    {
      "cell_type": "code",
      "source": [
        "# for loop : when we have a sequence provided or sequential datatype (list , tuple , string)\n",
        "\n",
        "list1 = [1,2,3,4,5,6,7,8,9]\n",
        "\n",
        "for i in list1:\n",
        "  print(i)"
      ],
      "metadata": {
        "colab": {
          "base_uri": "https://localhost:8080/"
        },
        "id": "Zdr_QHYdPDuh",
        "outputId": "2bea4e66-4d68-48e1-b3d6-5c5b560ed139"
      },
      "execution_count": null,
      "outputs": [
        {
          "output_type": "stream",
          "name": "stdout",
          "text": [
            "1\n",
            "2\n",
            "3\n",
            "4\n",
            "5\n",
            "6\n",
            "7\n",
            "8\n",
            "9\n"
          ]
        }
      ]
    },
    {
      "cell_type": "code",
      "source": [
        "name = \"hello\"\n",
        "\n",
        "for i in name:\n",
        "  print(i)\n"
      ],
      "metadata": {
        "colab": {
          "base_uri": "https://localhost:8080/"
        },
        "id": "S8ePs5I6PX9H",
        "outputId": "f54bfada-e107-486a-fe9e-f4beaa716f38"
      },
      "execution_count": null,
      "outputs": [
        {
          "output_type": "stream",
          "name": "stdout",
          "text": [
            "h\n",
            "e\n",
            "l\n",
            "l\n",
            "o\n"
          ]
        }
      ]
    },
    {
      "cell_type": "markdown",
      "source": [
        "# While loop"
      ],
      "metadata": {
        "id": "x1ddb2ld_DHq"
      }
    },
    {
      "cell_type": "markdown",
      "source": [
        "* In programming , a while loop is used when you don't know in advance how many times you will need to repeat something. The loop keeps going until a condition is no longer True"
      ],
      "metadata": {
        "id": "2yHBxpxECTae"
      }
    },
    {
      "cell_type": "code",
      "source": [
        "window_dirty = True\n",
        "\n",
        "while window_dirty == True: # The loop runs as long as window_dirty is True\n",
        "  print(\"clean the window\") # This prints the message\n",
        "  window_dirty = False  # after cleaning, we set the window_dirty to False"
      ],
      "metadata": {
        "id": "-sozUrYJQWIP",
        "colab": {
          "base_uri": "https://localhost:8080/"
        },
        "outputId": "e58bbb50-dbe0-4b80-9a07-b4db4a883040"
      },
      "execution_count": null,
      "outputs": [
        {
          "output_type": "stream",
          "name": "stdout",
          "text": [
            "clean the window\n"
          ]
        }
      ]
    },
    {
      "cell_type": "code",
      "source": [
        "i = int(input(\"enter any number less than 5: \"))\n",
        "j = int(input(\"enter any number more than 5 or 5: \"))\n",
        "while i <= j:\n",
        "  print(i)\n",
        "  i += 1 # i = i + 1\n"
      ],
      "metadata": {
        "colab": {
          "base_uri": "https://localhost:8080/"
        },
        "id": "DxnpniExDEjE",
        "outputId": "a382a516-50d7-474c-c599-4adc3b6540b5"
      },
      "execution_count": null,
      "outputs": [
        {
          "output_type": "stream",
          "name": "stdout",
          "text": [
            "enter any number less than 5: 1\n",
            "enter any number more than 5 or 5: 5\n",
            "1\n",
            "2\n",
            "3\n",
            "4\n",
            "5\n"
          ]
        }
      ]
    },
    {
      "cell_type": "markdown",
      "source": [
        "# 1st iteration , i = 1 print 1\n",
        "# 2nd iteration , i = 2 print 2\n",
        "# 3rd iteration , i = 3 print 3\n",
        "# 4th iteration , i = 4 print 4\n",
        "# 5th iteration , i = 5 print 5"
      ],
      "metadata": {
        "id": "2-1oL099HIxY"
      }
    },
    {
      "cell_type": "code",
      "source": [
        "i = 10\n",
        "\n",
        "while i != 1:\n",
        "  print(i)\n",
        "  i -= 1"
      ],
      "metadata": {
        "colab": {
          "base_uri": "https://localhost:8080/"
        },
        "id": "e3wBz41DFKiM",
        "outputId": "aeacc477-c08b-4487-f6b9-93050995d959"
      },
      "execution_count": null,
      "outputs": [
        {
          "output_type": "stream",
          "name": "stdout",
          "text": [
            "10\n",
            "9\n",
            "8\n",
            "7\n",
            "6\n",
            "5\n",
            "4\n",
            "3\n",
            "2\n"
          ]
        }
      ]
    },
    {
      "cell_type": "code",
      "source": [
        "for i in range(1,6):\n",
        "  if i == 3:\n",
        "    break  # the statement break stops the loop entirely when cond is met\n",
        "  print(i)"
      ],
      "metadata": {
        "colab": {
          "base_uri": "https://localhost:8080/"
        },
        "id": "OzdnYiatJXEM",
        "outputId": "04edfe2f-f121-42c1-931d-cef7b1431a21"
      },
      "execution_count": null,
      "outputs": [
        {
          "output_type": "stream",
          "name": "stdout",
          "text": [
            "1\n",
            "2\n"
          ]
        }
      ]
    },
    {
      "cell_type": "code",
      "source": [
        "for i in range(1,6):\n",
        "  if i == 3:\n",
        "    continue\n",
        "  print(i)\n",
        "\n",
        "# continue statement it skips the current iteration and moves to the next one."
      ],
      "metadata": {
        "colab": {
          "base_uri": "https://localhost:8080/"
        },
        "id": "N94DIPo-KhoQ",
        "outputId": "1c66f282-cf7e-4642-8299-e92fa0f30d32"
      },
      "execution_count": null,
      "outputs": [
        {
          "output_type": "stream",
          "name": "stdout",
          "text": [
            "1\n",
            "2\n",
            "4\n",
            "5\n"
          ]
        }
      ]
    },
    {
      "cell_type": "code",
      "source": [
        "orders = [\"phones\",\"out of stock\",\"laptop\"]\n",
        "\n",
        "for item in orders:\n",
        "  if item == \"out of stock\":\n",
        "    continue\n",
        "  print(f\"processing the item : {item}\")"
      ],
      "metadata": {
        "colab": {
          "base_uri": "https://localhost:8080/"
        },
        "id": "G_n8VzHPLkYd",
        "outputId": "7f5fe551-db17-4dcb-9e6a-4c08dbd9577a"
      },
      "execution_count": null,
      "outputs": [
        {
          "output_type": "stream",
          "name": "stdout",
          "text": [
            "processing the item : phones\n",
            "processing the item : out of stock\n",
            "processing the item : laptop\n"
          ]
        }
      ]
    },
    {
      "cell_type": "code",
      "source": [
        "numbers = [1,2,3,4,5,6,7,8,9,10]\n",
        "\n",
        "\n",
        "for i in numbers:\n",
        "  if i % 2 == 0:\n",
        "    continue\n",
        "\n",
        "  if i == 10:\n",
        "    break\n",
        "\n",
        "  print(i)"
      ],
      "metadata": {
        "colab": {
          "base_uri": "https://localhost:8080/"
        },
        "id": "eylo6_qZNpEg",
        "outputId": "14b19036-45a4-45f3-fea4-80b28802df26"
      },
      "execution_count": null,
      "outputs": [
        {
          "output_type": "stream",
          "name": "stdout",
          "text": [
            "1\n",
            "3\n",
            "5\n",
            "7\n",
            "9\n"
          ]
        }
      ]
    },
    {
      "cell_type": "markdown",
      "source": [
        "create a while loop that asks the user to guess a secret number (eg.-7)and continues until the secret number is guessed."
      ],
      "metadata": {
        "id": "aj1FaUgnQb4t"
      }
    },
    {
      "cell_type": "code",
      "source": [
        "secret_number = 7\n",
        "\n",
        "while True:\n",
        "  guess = int(input(\"Guess the Secret number: \"))\n",
        "  if guess == secret_number:\n",
        "    print(\"congratulations! you have guessed the correct number\")\n",
        "    break # stop the loop when guessed correctly\n",
        "  else:\n",
        "    print(\"wrong guess! try again\")"
      ],
      "metadata": {
        "colab": {
          "base_uri": "https://localhost:8080/"
        },
        "id": "RlVH-afEQNqy",
        "outputId": "f2992ee1-7dfb-4103-a841-bafd349c5903"
      },
      "execution_count": null,
      "outputs": [
        {
          "output_type": "stream",
          "name": "stdout",
          "text": [
            "Guess the Secret number: 1\n",
            "wrong guess! try again\n",
            "Guess the Secret number: 7\n",
            "congratulations! you have guessed the correct number\n"
          ]
        }
      ]
    },
    {
      "cell_type": "markdown",
      "source": [
        "Write a program to print the square of numbers from 1 to 5."
      ],
      "metadata": {
        "id": "DQV95TnLVfpj"
      }
    },
    {
      "cell_type": "code",
      "source": [
        "for i in range(1,6):\n",
        "  print(f\"The square of {i} is {i**2}\")"
      ],
      "metadata": {
        "colab": {
          "base_uri": "https://localhost:8080/"
        },
        "id": "YZF3oNqRQ6nN",
        "outputId": "8c297ed1-f180-4d88-bea2-70ac2a859ee8"
      },
      "execution_count": null,
      "outputs": [
        {
          "output_type": "stream",
          "name": "stdout",
          "text": [
            "The square of 1 is 1\n",
            "The square of 2 is 4\n",
            "The square of 3 is 9\n",
            "The square of 4 is 16\n",
            "The square of 5 is 25\n"
          ]
        }
      ]
    },
    {
      "cell_type": "code",
      "source": [
        "i = 1\n",
        "while i <= 5:\n",
        "  print(f\"The square of {i} is {i**2}\")\n",
        "  i += 1"
      ],
      "metadata": {
        "colab": {
          "base_uri": "https://localhost:8080/"
        },
        "id": "YUmF2ZBTW7Uy",
        "outputId": "660db231-5589-4e00-f5ce-6e172abd91bd"
      },
      "execution_count": null,
      "outputs": [
        {
          "output_type": "stream",
          "name": "stdout",
          "text": [
            "The square of 1 is 1\n",
            "The square of 2 is 4\n",
            "The square of 3 is 9\n",
            "The square of 4 is 16\n",
            "The square of 5 is 25\n"
          ]
        }
      ]
    },
    {
      "cell_type": "markdown",
      "source": [
        "Keep asking the user for a password until they enter \"password123\", then print \"Access Granted\"."
      ],
      "metadata": {
        "id": "adaYWl48XX-c"
      }
    },
    {
      "cell_type": "code",
      "source": [
        "correct_password = \"password123\"\n",
        "\n",
        "for attempt in range(3):\n",
        "  password = input(\"Enter the password: \")\n",
        "  if password == correct_password:\n",
        "    print(\"Acces Granted\")\n",
        "    break\n",
        "  else:\n",
        "    print(\"Incorrect password Try again\")\n",
        "# else:\n",
        "#   print(\"Access denied ! too many failed attempts\")\n",
        "\n"
      ],
      "metadata": {
        "colab": {
          "base_uri": "https://localhost:8080/"
        },
        "id": "qkQArgKnXKZW",
        "outputId": "93da6d19-1935-4ba2-c39d-037b867e281e"
      },
      "execution_count": null,
      "outputs": [
        {
          "output_type": "stream",
          "name": "stdout",
          "text": [
            "Enter the password: 123\n",
            "Incorrect password Try again\n",
            "Enter the password: 234\n",
            "Incorrect password Try again\n",
            "Enter the password: 345\n",
            "Incorrect password Try again\n"
          ]
        }
      ]
    },
    {
      "cell_type": "code",
      "source": [
        "\n",
        "correct_password = \"password123\"\n",
        "for attempt in range(3):\n",
        "  password = input(\"Enter the password: \")\n",
        "  if password == correct_password:\n",
        "    print(\"Acces Granted\")\n",
        "    break\n",
        "  else:\n",
        "    print(\"Incorrect password Try again\")\n",
        "else:\n",
        "  print(\"Access denied ! too many failed attempts\")"
      ],
      "metadata": {
        "colab": {
          "base_uri": "https://localhost:8080/"
        },
        "id": "XFA0Sz2qYbZ6",
        "outputId": "e0726dc5-6fbe-44e7-9d50-11e6b3db05eb"
      },
      "execution_count": null,
      "outputs": [
        {
          "output_type": "stream",
          "name": "stdout",
          "text": [
            "Enter the password: 543\n",
            "Incorrect password Try again\n",
            "Enter the password: 564\n",
            "Incorrect password Try again\n",
            "Enter the password: 675\n",
            "Incorrect password Try again\n",
            "Access denied ! too many failed attempts\n"
          ]
        }
      ]
    },
    {
      "cell_type": "markdown",
      "source": [
        "1.Given a list: numbers = [2, 4, 6, 8, 10], use a for loop to print each number.\n",
        "\n",
        "2.Print the multiplication table of 5 using a for loop.\n",
        "\n",
        "3.Calculate the sum of numbers from 1 to 20 using a for loop.\n",
        "\n",
        "4.Reverse a list [10, 20, 30, 40, 50] using a for loop.\n",
        "\n",
        "5.Create a guessing game where the user has to guess the number 25. The program should stop when they guess correctly.\n",
        "\n",
        "6.Find the factorial of a number using a while loop.\n",
        "\n",
        "7.Print numbers from 10 to 1 in reverse order using a while loop."
      ],
      "metadata": {
        "id": "QHlofrAqb5oc"
      }
    },
    {
      "cell_type": "markdown",
      "source": [
        "# Python Handson"
      ],
      "metadata": {
        "id": "fRngNNinE2Rm"
      }
    },
    {
      "cell_type": "markdown",
      "source": [
        "#FizzBuzz Challenge:\n",
        "# Print numbers from 1 to 50. If a number is divisible by 3, print \"Fizz\"; if divisible by 5, print \"Buzz\"; if divisible by both, print \"FizzBuzz.\""
      ],
      "metadata": {
        "id": "XNyFIHxjF9pv"
      }
    },
    {
      "cell_type": "code",
      "source": [
        "# for loop , while loop , if else statement"
      ],
      "metadata": {
        "id": "ElqSlmWSKSkz"
      },
      "execution_count": null,
      "outputs": []
    },
    {
      "cell_type": "code",
      "source": [
        "for i in range(1,51):\n",
        "  if i % 3 == 0 and i % 5 == 0:\n",
        "    print(\"FizzBuzz\")\n",
        "  elif i % 5 == 0:\n",
        "    print(\"Buzz\")\n",
        "  elif i % 3 == 0:\n",
        "    print(\"Fizz\")\n",
        "  else:\n",
        "    print(i)"
      ],
      "metadata": {
        "colab": {
          "base_uri": "https://localhost:8080/"
        },
        "id": "dNZVu2U5KShq",
        "outputId": "e71d60df-3ceb-4db3-fe7a-a2c2294a17ed"
      },
      "execution_count": null,
      "outputs": [
        {
          "output_type": "stream",
          "name": "stdout",
          "text": [
            "1\n",
            "2\n",
            "Fizz\n",
            "4\n",
            "Buzz\n",
            "Fizz\n",
            "7\n",
            "8\n",
            "Fizz\n",
            "Buzz\n",
            "11\n",
            "Fizz\n",
            "13\n",
            "14\n",
            "FizzBuzz\n",
            "16\n",
            "17\n",
            "Fizz\n",
            "19\n",
            "Buzz\n",
            "Fizz\n",
            "22\n",
            "23\n",
            "Fizz\n",
            "Buzz\n",
            "26\n",
            "Fizz\n",
            "28\n",
            "29\n",
            "FizzBuzz\n",
            "31\n",
            "32\n",
            "Fizz\n",
            "34\n",
            "Buzz\n",
            "Fizz\n",
            "37\n",
            "38\n",
            "Fizz\n",
            "Buzz\n",
            "41\n",
            "Fizz\n",
            "43\n",
            "44\n",
            "FizzBuzz\n",
            "46\n",
            "47\n",
            "Fizz\n",
            "49\n",
            "Buzz\n"
          ]
        }
      ]
    },
    {
      "cell_type": "code",
      "source": [
        "i = 1\n",
        "\n",
        "while i <= 50:\n",
        "  if i % 3 == 0 and i % 5 == 0:\n",
        "    print(\"FizzBuzz\")\n",
        "  elif i % 5 == 0:\n",
        "    print(\"Buzz\")\n",
        "  elif i % 3 == 0:\n",
        "    print(\"Fizz\")\n",
        "  else:\n",
        "    print(i)\n",
        "  i+=1\n",
        "\n",
        "\n"
      ],
      "metadata": {
        "colab": {
          "base_uri": "https://localhost:8080/"
        },
        "id": "UIcXVsT9KSd_",
        "outputId": "3bbfab5b-9793-40a9-996e-37698f1de840"
      },
      "execution_count": null,
      "outputs": [
        {
          "output_type": "stream",
          "name": "stdout",
          "text": [
            "1\n",
            "2\n",
            "Fizz\n",
            "4\n",
            "Buzz\n",
            "Fizz\n",
            "7\n",
            "8\n",
            "Fizz\n",
            "Buzz\n",
            "11\n",
            "Fizz\n",
            "13\n",
            "14\n",
            "FizzBuzz\n",
            "16\n",
            "17\n",
            "Fizz\n",
            "19\n",
            "Buzz\n",
            "Fizz\n",
            "22\n",
            "23\n",
            "Fizz\n",
            "Buzz\n",
            "26\n",
            "Fizz\n",
            "28\n",
            "29\n",
            "FizzBuzz\n",
            "31\n",
            "32\n",
            "Fizz\n",
            "34\n",
            "Buzz\n",
            "Fizz\n",
            "37\n",
            "38\n",
            "Fizz\n",
            "Buzz\n",
            "41\n",
            "Fizz\n",
            "43\n",
            "44\n",
            "FizzBuzz\n",
            "46\n",
            "47\n",
            "Fizz\n",
            "49\n",
            "Buzz\n"
          ]
        }
      ]
    },
    {
      "cell_type": "code",
      "source": [],
      "metadata": {
        "id": "etNRbWxdKSbE"
      },
      "execution_count": null,
      "outputs": []
    },
    {
      "cell_type": "code",
      "source": [],
      "metadata": {
        "id": "f2H08OAtKSYY"
      },
      "execution_count": null,
      "outputs": []
    },
    {
      "cell_type": "code",
      "source": [],
      "metadata": {
        "id": "Ab3d8lt1KSVj"
      },
      "execution_count": null,
      "outputs": []
    },
    {
      "cell_type": "code",
      "source": [],
      "metadata": {
        "id": "RylR5dcuKSSF"
      },
      "execution_count": null,
      "outputs": []
    },
    {
      "cell_type": "code",
      "source": [],
      "metadata": {
        "id": "0wEUa1Embn2Z"
      },
      "execution_count": null,
      "outputs": []
    },
    {
      "cell_type": "markdown",
      "source": [
        "# Reverse a Number:\n",
        "# Write a Python program to reverse an integer, e.g., 1234 should become 4321.\n"
      ],
      "metadata": {
        "id": "s4VGT0pmGGl5"
      }
    },
    {
      "cell_type": "code",
      "source": [
        "num = int(input(\"Enter a number:\"))\n",
        "\n",
        "reversed_num = int(str(num)[::-1])\n",
        "\n",
        "print(reversed_num)"
      ],
      "metadata": {
        "colab": {
          "base_uri": "https://localhost:8080/"
        },
        "id": "JUiTDpW1GF_Z",
        "outputId": "d2b68e21-bde0-4899-df54-abf76fa502a0"
      },
      "execution_count": null,
      "outputs": [
        {
          "output_type": "stream",
          "name": "stdout",
          "text": [
            "Enter a number:1234\n",
            "4321\n"
          ]
        }
      ]
    },
    {
      "cell_type": "code",
      "source": [
        "# num[start:ending:step]"
      ],
      "metadata": {
        "id": "ZRuzDRWzSlht"
      },
      "execution_count": null,
      "outputs": []
    },
    {
      "cell_type": "code",
      "source": [
        "s = \"fatima\""
      ],
      "metadata": {
        "id": "0W2hlAkuP1Kx"
      },
      "execution_count": null,
      "outputs": []
    },
    {
      "cell_type": "code",
      "source": [
        "s[::-1]  # -1 means you are stepping backwards through the string , means reversing it"
      ],
      "metadata": {
        "colab": {
          "base_uri": "https://localhost:8080/",
          "height": 36
        },
        "id": "Xx_H94KKP1Nz",
        "outputId": "5af63953-b426-48da-cd65-e8d7b4843c11"
      },
      "execution_count": null,
      "outputs": [
        {
          "output_type": "execute_result",
          "data": {
            "text/plain": [
              "'amitaf'"
            ],
            "application/vnd.google.colaboratory.intrinsic+json": {
              "type": "string"
            }
          },
          "metadata": {},
          "execution_count": 10
        }
      ]
    },
    {
      "cell_type": "code",
      "source": [
        "s[0:len(s)]"
      ],
      "metadata": {
        "colab": {
          "base_uri": "https://localhost:8080/",
          "height": 36
        },
        "id": "N2sY8gXlP1RK",
        "outputId": "dc67d4b0-e2a3-4b4e-88a4-f17778ee8c7f"
      },
      "execution_count": null,
      "outputs": [
        {
          "output_type": "execute_result",
          "data": {
            "text/plain": [
              "'fatima'"
            ],
            "application/vnd.google.colaboratory.intrinsic+json": {
              "type": "string"
            }
          },
          "metadata": {},
          "execution_count": 18
        }
      ]
    },
    {
      "cell_type": "code",
      "source": [
        "a = int(input(\"enter a number:\"))"
      ],
      "metadata": {
        "colab": {
          "base_uri": "https://localhost:8080/"
        },
        "id": "j8qlCqV9P1Uu",
        "outputId": "9695af14-705f-435d-b4e8-2904685bd354"
      },
      "execution_count": null,
      "outputs": [
        {
          "name": "stdout",
          "output_type": "stream",
          "text": [
            "enter a number:1224\n"
          ]
        }
      ]
    },
    {
      "cell_type": "code",
      "source": [
        "type(a)"
      ],
      "metadata": {
        "colab": {
          "base_uri": "https://localhost:8080/"
        },
        "id": "wk15Q2jkVP2s",
        "outputId": "595b75bd-68a5-48c9-9153-defec01fe66b"
      },
      "execution_count": null,
      "outputs": [
        {
          "output_type": "execute_result",
          "data": {
            "text/plain": [
              "int"
            ]
          },
          "metadata": {},
          "execution_count": 30
        }
      ]
    },
    {
      "cell_type": "code",
      "source": [
        "reverse_num = int(str(a)[::-1])  # in int we cannot use slicing concpet"
      ],
      "metadata": {
        "id": "3cQp0qm8UShR"
      },
      "execution_count": null,
      "outputs": []
    },
    {
      "cell_type": "code",
      "source": [
        "print(reverse_num)"
      ],
      "metadata": {
        "colab": {
          "base_uri": "https://localhost:8080/"
        },
        "id": "BDGDxW6TUSk0",
        "outputId": "5e26dafc-1084-404c-c7c7-fcaa9df19136"
      },
      "execution_count": null,
      "outputs": [
        {
          "output_type": "stream",
          "name": "stdout",
          "text": [
            "4221\n"
          ]
        }
      ]
    },
    {
      "cell_type": "code",
      "source": [
        "type(reverse_num)"
      ],
      "metadata": {
        "colab": {
          "base_uri": "https://localhost:8080/"
        },
        "id": "aE4fX9NQP1X8",
        "outputId": "9681490c-8f2b-428a-b4de-6d9740f92e5e"
      },
      "execution_count": null,
      "outputs": [
        {
          "output_type": "execute_result",
          "data": {
            "text/plain": [
              "int"
            ]
          },
          "metadata": {},
          "execution_count": 36
        }
      ]
    },
    {
      "cell_type": "markdown",
      "source": [
        "# Count Vowels in a String:\n",
        "# Write a Python program that counts the number of vowels in a given string"
      ],
      "metadata": {
        "id": "M0piYIBnGLQX"
      }
    },
    {
      "cell_type": "code",
      "source": [
        "# a = \"fatima\" - 3 (aia)\n",
        "\n",
        "# v = \"aeiou\""
      ],
      "metadata": {
        "id": "a8uIbMQUGQIG"
      },
      "execution_count": null,
      "outputs": []
    },
    {
      "cell_type": "code",
      "source": [
        "name = input(\"Enter a string: \");\n",
        "v = \"aeiou\"\n",
        "number = 0\n",
        "for a in name:\n",
        "  if a in v:\n",
        "    number += 1\n",
        "print(\"Number of vowels:\", number);"
      ],
      "metadata": {
        "colab": {
          "base_uri": "https://localhost:8080/"
        },
        "id": "9dI1YjL6WLhd",
        "outputId": "d62c9992-6f2b-42db-eadf-ad20580f99b4"
      },
      "execution_count": null,
      "outputs": [
        {
          "output_type": "stream",
          "name": "stdout",
          "text": [
            "Enter a string: fatima\n",
            "Number of vowels: 3\n"
          ]
        }
      ]
    },
    {
      "cell_type": "code",
      "source": [
        "a =\"veeresh\"\n",
        "\n",
        "v =\"aeiou\"\n",
        "\n",
        "vowel_count = 0\n",
        "\n",
        "for char  in a:\n",
        "\n",
        "  if char in v :\n",
        "\n",
        "    vowel_count += 1\n",
        "\n",
        "print(\"Number of vowels:\",vowel_count)"
      ],
      "metadata": {
        "colab": {
          "base_uri": "https://localhost:8080/"
        },
        "id": "SiJ1C1WLWLkn",
        "outputId": "064170fa-0c38-4f4e-f3aa-9c82ce47eb77"
      },
      "execution_count": null,
      "outputs": [
        {
          "output_type": "stream",
          "name": "stdout",
          "text": [
            "Number of vowels: 3\n"
          ]
        }
      ]
    },
    {
      "cell_type": "code",
      "source": [
        "string = input(\"Enter a string: \")\n",
        "count = 0\n",
        "\n",
        "vowels = \"aeiouAEIOU\"\n",
        "\n",
        "for char in string:\n",
        "  if char in vowels:\n",
        "    count+=1\n",
        "\n",
        "print(\"Number of Vowels:\",count)"
      ],
      "metadata": {
        "colab": {
          "base_uri": "https://localhost:8080/"
        },
        "id": "ZQelcDVYWLoQ",
        "outputId": "bf005d5a-7caa-4a18-ce91-84cd49509395"
      },
      "execution_count": null,
      "outputs": [
        {
          "output_type": "stream",
          "name": "stdout",
          "text": [
            "Enter a string: Sudhir\n",
            "Number of Vowels: 2\n"
          ]
        }
      ]
    },
    {
      "cell_type": "code",
      "source": [],
      "metadata": {
        "id": "OOx4YT57WLry"
      },
      "execution_count": null,
      "outputs": []
    },
    {
      "cell_type": "code",
      "source": [],
      "metadata": {
        "id": "7t1eNY6OWLu_"
      },
      "execution_count": null,
      "outputs": []
    },
    {
      "cell_type": "markdown",
      "source": [
        "# Student Grade Calculator:\n",
        "# Create a dictionary where keys are subjects and values are marks. Calculate the average percentage.\n"
      ],
      "metadata": {
        "id": "cP4YRBuZGai7"
      }
    },
    {
      "cell_type": "code",
      "source": [
        "# 1.keys - subject  name ,values - marks\n",
        "# 2. compute the total marks by summing the Value\n",
        "# 3. Find the number of subjects\n",
        "# 4. avg percentage - total marks / number of subjects\n",
        "# 5. print the average value\n"
      ],
      "metadata": {
        "id": "V44jhrHmaVBl"
      },
      "execution_count": null,
      "outputs": []
    },
    {
      "cell_type": "code",
      "source": [
        "subjects = {\n",
        "    \"English\":97,\n",
        "    \"History\":76,\n",
        "    \"Geography\":98,\n",
        "    \"Maths\":100\n",
        "}"
      ],
      "metadata": {
        "id": "xkF0RSXmaU-D"
      },
      "execution_count": null,
      "outputs": []
    },
    {
      "cell_type": "code",
      "source": [
        "subjects.values()"
      ],
      "metadata": {
        "colab": {
          "base_uri": "https://localhost:8080/"
        },
        "id": "fqTf83ZJaU61",
        "outputId": "ccf085ee-4544-41e9-dd3a-8581e65743bd"
      },
      "execution_count": null,
      "outputs": [
        {
          "output_type": "execute_result",
          "data": {
            "text/plain": [
              "dict_values([97, 76, 98, 100])"
            ]
          },
          "metadata": {},
          "execution_count": 44
        }
      ]
    },
    {
      "cell_type": "code",
      "source": [
        "total_marks = sum(subjects.values())"
      ],
      "metadata": {
        "id": "XQR6paIKG3Kv"
      },
      "execution_count": null,
      "outputs": []
    },
    {
      "cell_type": "code",
      "source": [
        "total_marks"
      ],
      "metadata": {
        "colab": {
          "base_uri": "https://localhost:8080/"
        },
        "id": "rcTiUmQtfBiu",
        "outputId": "688b1ee0-fa64-4b6e-854b-7f556b90a9a4"
      },
      "execution_count": null,
      "outputs": [
        {
          "output_type": "execute_result",
          "data": {
            "text/plain": [
              "371"
            ]
          },
          "metadata": {},
          "execution_count": 46
        }
      ]
    },
    {
      "cell_type": "code",
      "source": [
        "num_subjects = len(subjects)"
      ],
      "metadata": {
        "id": "SPh4y1kIfBlu"
      },
      "execution_count": null,
      "outputs": []
    },
    {
      "cell_type": "code",
      "source": [
        "num_subjects"
      ],
      "metadata": {
        "colab": {
          "base_uri": "https://localhost:8080/"
        },
        "id": "ET9sJ2Z8fBpt",
        "outputId": "92450fe4-59db-436c-d809-5be5176a5661"
      },
      "execution_count": null,
      "outputs": [
        {
          "output_type": "execute_result",
          "data": {
            "text/plain": [
              "4"
            ]
          },
          "metadata": {},
          "execution_count": 48
        }
      ]
    },
    {
      "cell_type": "code",
      "source": [
        "avg_per = total_marks / num_subjects"
      ],
      "metadata": {
        "id": "d90l6SPpfIxQ"
      },
      "execution_count": null,
      "outputs": []
    },
    {
      "cell_type": "code",
      "source": [
        "avg_per"
      ],
      "metadata": {
        "colab": {
          "base_uri": "https://localhost:8080/"
        },
        "id": "ztmYRoL4fS7J",
        "outputId": "eb89b5d1-3297-4670-9fdb-6f06d8c7ccf6"
      },
      "execution_count": null,
      "outputs": [
        {
          "output_type": "execute_result",
          "data": {
            "text/plain": [
              "92.75"
            ]
          },
          "metadata": {},
          "execution_count": 55
        }
      ]
    },
    {
      "cell_type": "code",
      "source": [],
      "metadata": {
        "id": "8yrPMtOUfS-8"
      },
      "execution_count": null,
      "outputs": []
    },
    {
      "cell_type": "code",
      "source": [],
      "metadata": {
        "id": "vj-1bROQfTB0"
      },
      "execution_count": null,
      "outputs": []
    },
    {
      "cell_type": "markdown",
      "source": [
        "# Palindrome Checker:\n",
        "# Write a program to check whether a word (e.g., \"madam\") is a palindrome."
      ],
      "metadata": {
        "id": "XNQfgcI6G0Wp"
      }
    },
    {
      "cell_type": "code",
      "source": [
        "\n",
        "\n",
        "# A palindrom is a word , phrase , number or sequence that reads the same forward and backward\n",
        "# example - madam , racecar , level\n",
        "\n",
        "# Non pallindrom - \"hello\" - \"olleh\" , \"python\" - \"nohtyp\""
      ],
      "metadata": {
        "id": "WwMlIYR1GgZj"
      },
      "execution_count": null,
      "outputs": []
    },
    {
      "cell_type": "code",
      "source": [
        "# take input fron user\n",
        "# convert to lowercase ( to make it case - insensitive)\n",
        "# reverse the string using slicing\n",
        "# compare the original string and reverse string\n",
        "# If they match - palindrome , if they don't not a palindrome"
      ],
      "metadata": {
        "id": "pu7213i9gJ4e"
      },
      "execution_count": null,
      "outputs": []
    },
    {
      "cell_type": "code",
      "source": [
        "a = input(\"Enter a word:\").lower()"
      ],
      "metadata": {
        "colab": {
          "base_uri": "https://localhost:8080/"
        },
        "id": "5v7FCL26gJ8E",
        "outputId": "97d4ba56-1df9-4629-b021-44d44920a2ae"
      },
      "execution_count": null,
      "outputs": [
        {
          "name": "stdout",
          "output_type": "stream",
          "text": [
            "Enter a word:racecar\n"
          ]
        }
      ]
    },
    {
      "cell_type": "code",
      "source": [
        "print(a)"
      ],
      "metadata": {
        "colab": {
          "base_uri": "https://localhost:8080/"
        },
        "id": "kkPffbmrgKdm",
        "outputId": "62288f44-582a-490c-c6a6-86b16468ed70"
      },
      "execution_count": null,
      "outputs": [
        {
          "output_type": "stream",
          "name": "stdout",
          "text": [
            "racecar\n"
          ]
        }
      ]
    },
    {
      "cell_type": "code",
      "source": [
        "b = a[::-1]"
      ],
      "metadata": {
        "id": "bgGCnAIAgKhi"
      },
      "execution_count": null,
      "outputs": []
    },
    {
      "cell_type": "code",
      "source": [
        "b"
      ],
      "metadata": {
        "colab": {
          "base_uri": "https://localhost:8080/",
          "height": 36
        },
        "id": "Q8m6Pjp2iaoT",
        "outputId": "7bbdb1ad-6992-4bdf-e4c7-e3f48c1317a2"
      },
      "execution_count": null,
      "outputs": [
        {
          "output_type": "execute_result",
          "data": {
            "text/plain": [
              "'racecar'"
            ],
            "application/vnd.google.colaboratory.intrinsic+json": {
              "type": "string"
            }
          },
          "metadata": {},
          "execution_count": 81
        }
      ]
    },
    {
      "cell_type": "code",
      "source": [
        "if a == b:\n",
        "  print(\"It is a palindrome\")\n",
        "else:\n",
        "  print(\"Not a palindrome\")"
      ],
      "metadata": {
        "colab": {
          "base_uri": "https://localhost:8080/"
        },
        "id": "NnHIuxUBia8u",
        "outputId": "61593249-3713-45a8-a9eb-25662e2035d9"
      },
      "execution_count": null,
      "outputs": [
        {
          "output_type": "stream",
          "name": "stdout",
          "text": [
            "It is a palindrome\n"
          ]
        }
      ]
    },
    {
      "cell_type": "code",
      "source": [],
      "metadata": {
        "id": "jRWts0A_igk_"
      },
      "execution_count": null,
      "outputs": []
    },
    {
      "cell_type": "code",
      "source": [],
      "metadata": {
        "id": "lZZ_85eyigor"
      },
      "execution_count": null,
      "outputs": []
    },
    {
      "cell_type": "markdown",
      "source": [
        "# Create a calculator program for addition, subtraction, multiplication and floor division.\n",
        "# Take the inputs from the user, and based on the choice of operation, return the results."
      ],
      "metadata": {
        "id": "pL5d3MQNHycQ"
      }
    },
    {
      "cell_type": "code",
      "source": [],
      "metadata": {
        "id": "26S95RWmHx-P"
      },
      "execution_count": null,
      "outputs": []
    },
    {
      "cell_type": "code",
      "source": [],
      "metadata": {
        "id": "f8_62GNYgCIt"
      },
      "execution_count": null,
      "outputs": []
    },
    {
      "cell_type": "code",
      "source": [],
      "metadata": {
        "id": "6xUkNkJegCMu"
      },
      "execution_count": null,
      "outputs": []
    },
    {
      "cell_type": "code",
      "source": [],
      "metadata": {
        "id": "7eFoiEKmgCQa"
      },
      "execution_count": null,
      "outputs": []
    },
    {
      "cell_type": "code",
      "source": [],
      "metadata": {
        "id": "OIGesdJDgCT8"
      },
      "execution_count": null,
      "outputs": []
    },
    {
      "cell_type": "code",
      "source": [],
      "metadata": {
        "id": "ZJc1fl47gCXK"
      },
      "execution_count": null,
      "outputs": []
    },
    {
      "cell_type": "markdown",
      "source": [
        "# Create a nested dictionary with values as a nested list for each key in the dictionary."
      ],
      "metadata": {
        "id": "O6yCBNUHH4WO"
      }
    },
    {
      "cell_type": "code",
      "source": [],
      "metadata": {
        "id": "qRfoaSJJH7Ep"
      },
      "execution_count": null,
      "outputs": []
    },
    {
      "cell_type": "markdown",
      "source": [
        "# Create two sets and perform the following:\n",
        "# a. Union of the two sets\n",
        "# b. Intersection of the two sets"
      ],
      "metadata": {
        "id": "8FUbOKGEH9eQ"
      }
    },
    {
      "cell_type": "code",
      "source": [],
      "metadata": {
        "id": "1iGtVoE2H_vg"
      },
      "execution_count": null,
      "outputs": []
    },
    {
      "cell_type": "markdown",
      "source": [
        "#Create a nested tuple from the dictionary, with each item in the tuple as a key value pair from the dictionary."
      ],
      "metadata": {
        "id": "i-CcjwwJIIh9"
      }
    },
    {
      "cell_type": "code",
      "source": [],
      "metadata": {
        "id": "luDeoAXYIBSZ"
      },
      "execution_count": null,
      "outputs": []
    },
    {
      "cell_type": "markdown",
      "source": [
        "# For the given strings A = “Python Programming Language”, B = “Best in the World” , perform\n",
        "# the following operations.\n",
        "\n",
        "# l. Using indexing operations, get the text “gram” from the string A.\n",
        "# m. Using indexing operations, get the text “World” from the string B.\n",
        "# n. Change the letters in both strings to Uppercase letters.\n",
        "# o. Concatenate the two strings."
      ],
      "metadata": {
        "id": "zQuaQbz-IONw"
      }
    },
    {
      "cell_type": "code",
      "source": [],
      "metadata": {
        "id": "z6KfBo6qIBJT"
      },
      "execution_count": null,
      "outputs": []
    },
    {
      "cell_type": "code",
      "source": [],
      "metadata": {
        "id": "hrCmrF47IA8_"
      },
      "execution_count": null,
      "outputs": []
    },
    {
      "cell_type": "markdown",
      "source": [],
      "metadata": {
        "id": "i44UtexhIAmF"
      }
    }
  ]
}